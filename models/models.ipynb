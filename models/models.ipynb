{
 "cells": [
  {
   "cell_type": "markdown",
   "id": "6a2e0d59",
   "metadata": {},
   "source": [
    "# 🌈 Models\n",
    "\n",
    "Often, we want to compare the data of a 🌈 to a model for the flux as a function of wavelength and time. `chromatic` provides a few tools to simplify performing and visualizing these comparisons. This page provides a quick tour of some of those features. "
   ]
  },
  {
   "cell_type": "code",
   "execution_count": null,
   "id": "ff56c7f2",
   "metadata": {},
   "outputs": [],
   "source": [
    "from chromatic import SimulatedRainbow, read_rainbow, version\n",
    "from chromatic import plt, np, u"
   ]
  },
  {
   "cell_type": "code",
   "execution_count": null,
   "id": "c6a6e08f",
   "metadata": {},
   "outputs": [],
   "source": [
    "version()"
   ]
  },
  {
   "cell_type": "markdown",
   "id": "f20d6592",
   "metadata": {},
   "source": [
    "## Creating a `🌈WithModel` object\n",
    "\n",
    "All `Rainbow` objects guarantee access to 5 core quantities (`wavelength`, `time`, `flux`, `uncertainty`, `ok`). The `RainbowWithModel` object adds a `model` quantity (with the same shape as `flux`) to this list and provides new functions that make use of that model. "
   ]
  },
  {
   "cell_type": "markdown",
   "id": "14de5407",
   "metadata": {},
   "source": [
    "If we read in a `Rainbow` from a data file, it might not have a `model` set yet. We can attach an array of model values and turn a `Rainbow` into a `RainbowWithModel` object using the `.attach_model()` method. "
   ]
  },
  {
   "cell_type": "code",
   "execution_count": null,
   "id": "323598da",
   "metadata": {},
   "outputs": [],
   "source": [
    "data = read_rainbow(\"example-datasets/chromatic/ero-transit-wasp-96b.rainbow.npy\")\n",
    "data"
   ]
  },
  {
   "cell_type": "code",
   "execution_count": null,
   "id": "ef49ba3e",
   "metadata": {},
   "outputs": [],
   "source": [
    "data_with_model = data.attach_model(\n",
    "    model=np.ones_like(data.flux),\n",
    "    planet_model=np.ones_like(data.flux),\n",
    "    systematics_model=np.ones_like(data.flux),\n",
    ")\n",
    "data_with_model"
   ]
  },
  {
   "cell_type": "markdown",
   "id": "6472170d",
   "metadata": {},
   "source": [
    "The `.attach_model()` function requires at least the overall `model` be supplied; this is an array meant to represent what our `flux` would look like if there were no noise. We can also add additional model components, like `planet_model` and `systematics_model` in the example above, to be able to track and visualize them separately. Obviously, \"ones everywhere\" is probably not good a good model for a real dataset, so you'd probably want to replace the `np.ones_like` above with something like the outputs from a model optimization or sampling routine."
   ]
  },
  {
   "cell_type": "markdown",
   "id": "ae08865b",
   "metadata": {},
   "source": [
    "If we created a simulated dataset with a `SimulatedRainbow()` object, the model behind that simulation is automatically stored inside the object. Let's generate a simulated dataset and use it as an example."
   ]
  },
  {
   "cell_type": "code",
   "execution_count": null,
   "id": "a68da3bd",
   "metadata": {},
   "outputs": [],
   "source": [
    "simulated = SimulatedRainbow().inject_transit().inject_systematics().inject_noise()\n",
    "simulated"
   ]
  },
  {
   "cell_type": "markdown",
   "id": "aec06d44",
   "metadata": {},
   "source": [
    "## Calculating 🌈 model residuals"
   ]
  },
  {
   "cell_type": "markdown",
   "id": "9372e67b",
   "metadata": {},
   "source": [
    "The `SimulatedRainbow()` object inherits from the `RainbowWithModel` object, so it has all its powers. This includes a `.residuals` property, that automatically calculates `flux` - `model` based on their current values."
   ]
  },
  {
   "cell_type": "code",
   "execution_count": null,
   "id": "4d4f6e14",
   "metadata": {},
   "outputs": [],
   "source": [
    "simulated.residuals"
   ]
  },
  {
   "cell_type": "markdown",
   "id": "336a314d",
   "metadata": {},
   "source": [
    "In the case of our simulation, we shouldn't be surprised that the model is a good fit and the `residuals` look like they are drawn from a zero-mean normal distribution characterized by the `uncertainty`"
   ]
  },
  {
   "cell_type": "code",
   "execution_count": null,
   "id": "646be88b",
   "metadata": {},
   "outputs": [],
   "source": [
    "plt.figure(figsize=(8, 2))\n",
    "plt.hist((simulated.residuals / simulated.uncertainty).flatten(), bins=100)\n",
    "plt.xlabel(\"(data - model)/uncertainty\");"
   ]
  },
  {
   "cell_type": "markdown",
   "id": "9628c2dd",
   "metadata": {},
   "source": [
    "## Visualizing 🌈 model comparisons\n",
    "\n",
    "A few helpers exist for visualizing comparisons between model and data. Because they are trying to do a lot, these generally take lots of optional keyword arguments, but we've tried to make the defaults a pretty as possible."
   ]
  },
  {
   "cell_type": "markdown",
   "id": "a15f7e87",
   "metadata": {},
   "source": [
    "### .paint_with_models()\n",
    "\n",
    "If we have a lot of data, the most compact way to visualize it is often to show a 2D map of the data or model flux as a function of time and wavelength."
   ]
  },
  {
   "cell_type": "code",
   "execution_count": null,
   "id": "a83f38d4",
   "metadata": {},
   "outputs": [],
   "source": [
    "simulated.paint_with_models();"
   ]
  },
  {
   "cell_type": "markdown",
   "id": "60604bd9",
   "metadata": {},
   "source": [
    "This defaults to showing the model components `systematics_model` and `planet_model`, but we can change which models get displayed with the `models=` keyword argument. This won't change the residuals, which are always calculated as `flux` - `model`. The example below shows a few more common keyword arguments we often want to change."
   ]
  },
  {
   "cell_type": "code",
   "execution_count": null,
   "id": "f8859270",
   "metadata": {},
   "outputs": [],
   "source": [
    "simulated.paint_with_models(models=[\"model\"], xaxis=\"wavelength\", cmap=\"gray\");"
   ]
  },
  {
   "cell_type": "markdown",
   "id": "9ec00e74",
   "metadata": {},
   "source": [
    "###  `.plot_with_model()`       \n",
    "\n",
    "If our data are binned down to a small number of wavelengths, then it might work to plot the data to model comparison as transit light curves. The left panel below plots the data with the complete model, both of which still contain the systematics. The right panel has divided out both the `flux` and `model` arrays by the systematics model, thus making the transit much clearer."
   ]
  },
  {
   "cell_type": "code",
   "execution_count": null,
   "id": "52965996",
   "metadata": {},
   "outputs": [],
   "source": [
    "fi, ax = plt.subplots(1, 2, sharey=True, sharex=True)\n",
    "binned = simulated.bin(R=5)\n",
    "binned.plot_with_model(ax=ax[0])\n",
    "(binned / binned.systematics_model).plot_with_model(ax=ax[1]);"
   ]
  },
  {
   "cell_type": "markdown",
   "id": "ed3c0d39",
   "metadata": {},
   "source": [
    "We can also plot the residuals from the model along the side."
   ]
  },
  {
   "cell_type": "code",
   "execution_count": null,
   "id": "60d1b459",
   "metadata": {},
   "outputs": [],
   "source": [
    "binned.plot_with_model_and_residuals();"
   ]
  },
  {
   "cell_type": "markdown",
   "id": "7bf8040f",
   "metadata": {},
   "source": [
    "###  `.animate_with_models()`       \n",
    "Finally, if we want to be able to look at multiple model components with light curve plots for many wavelengths, the simplest way might be to make an animation that flips through wavelength."
   ]
  },
  {
   "cell_type": "code",
   "execution_count": null,
   "id": "0ad892dd",
   "metadata": {},
   "outputs": [],
   "source": [
    "binned.animate_with_models();"
   ]
  },
  {
   "cell_type": "markdown",
   "id": "a41ccd06",
   "metadata": {},
   "source": [
    "That animation function calls a helper function that you might want to use on its own, if you want to make a multicomponent lightcurve plot for a single wavelength. Here, it's being used to plot the first wavelength in the 🌈."
   ]
  },
  {
   "cell_type": "code",
   "execution_count": null,
   "id": "bb4df2c9",
   "metadata": {
    "scrolled": false
   },
   "outputs": [],
   "source": [
    "binned.plot_one_wavelength_with_models(i_wavelength=0);"
   ]
  },
  {
   "cell_type": "markdown",
   "id": "0fe255cb",
   "metadata": {},
   "source": [
    "### other visualizations \n",
    "\n",
    "Please remember you can always check for what other visualization or actions are available for a given 🌈 with the `.help()` method. All the [🌈 Visualizations](../visualizing) methods still work for 🌈 with models attached!\n",
    "\n",
    "If you would like another kind of a visualization that isn't shown here, please [submit an Issue](../github#Should-I-submit-an-Issue-to-the-chromatic-GitHub-repository?) to discuss it."
   ]
  }
 ],
 "metadata": {
  "kernelspec": {
   "display_name": "Python 3 (ipykernel)",
   "language": "python",
   "name": "python3"
  },
  "language_info": {
   "codemirror_mode": {
    "name": "ipython",
    "version": 3
   },
   "file_extension": ".py",
   "mimetype": "text/x-python",
   "name": "python",
   "nbconvert_exporter": "python",
   "pygments_lexer": "ipython3",
   "version": "3.10.4"
  }
 },
 "nbformat": 4,
 "nbformat_minor": 5
}
