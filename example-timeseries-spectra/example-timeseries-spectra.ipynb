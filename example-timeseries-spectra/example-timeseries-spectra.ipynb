{
 "cells": [
  {
   "cell_type": "markdown",
   "metadata": {},
   "source": [
    "# 🌈⏰🌊 time-series spectra "
   ]
  },
  {
   "cell_type": "markdown",
   "metadata": {
    "id": "54Fw52K8Dv0H"
   },
   "source": [
    "This example notebook provides quick visualizations to characterize a set of time-series stellar spectra for a transiting exoplanet, using the [`chromatic` toolkit](https://zkbt.github.io/chromatic/). This notebook can be run before you have fit any models to the data, requiring only the data themselves and a few details about the planet. To access this notebook, you might want to:\n",
    "- Download it from [GitHub](https://github.com/zkbt/chromatic/blob/main/docs/example-timeseries-spectra.ipynb) (click 'Raw' to download the `.ipynb` file) and run on your own computer.\n",
    "- Open in [Google Colab](https://colab.research.google.com/github/zkbt/chromatic/blob/main/docs/example-timeseries-spectra.ipynb), load your data into that interactive session, and run everything online.\n",
    "\n",
    "You should be able to modify just code cells in the **💻 Load the Data + 🪐 Describe the Planet** section, and then run the entire notebook to automatically generate visualizations."
   ]
  },
  {
   "cell_type": "markdown",
   "metadata": {},
   "source": [
    "## 💾 Make Sure `chromatic` is Installed\n",
    "\n",
    "If you don't already have `chromatic` installed, run the following command. "
   ]
  },
  {
   "cell_type": "code",
   "execution_count": null,
   "metadata": {},
   "outputs": [],
   "source": [
    "!pip install chromatic-lightcurves --upgrade --quiet"
   ]
  },
  {
   "cell_type": "markdown",
   "metadata": {},
   "source": [
    "Once `chromatic` is installed, you should have access to all the tools you need!"
   ]
  },
  {
   "cell_type": "code",
   "execution_count": null,
   "metadata": {},
   "outputs": [],
   "source": [
    "from chromatic import *"
   ]
  },
  {
   "cell_type": "code",
   "execution_count": null,
   "metadata": {},
   "outputs": [],
   "source": [
    "version()"
   ]
  },
  {
   "cell_type": "markdown",
   "metadata": {},
   "source": [
    "## 🧑‍💻 Load the Data + 🪐 Describe the Planet"
   ]
  },
  {
   "cell_type": "markdown",
   "metadata": {
    "id": "J7nSpWHfEhRI"
   },
   "source": [
    "Let's load the data into a `chromatic` 🌈 object. If you encounter errors loading your dataset, try specifying the file format with `read_rainbow(filename, format=...)` as described in the [Reading/Writing a 🌈](https://zkbt.github.io/chromatic/io/). Let's also associated a title with this object, which will automatically appear in most plots."
   ]
  },
  {
   "cell_type": "code",
   "execution_count": null,
   "metadata": {
    "id": "p3CzLGZ3Q2GS"
   },
   "outputs": [],
   "source": [
    "filename = \"example-datasets/stsci/jw02734*x1dints.fits\"\n",
    "rainbow = read_rainbow(filename)\n",
    "rainbow.title = \"WASP-96b | NIRISS | x1dints\""
   ]
  },
  {
   "cell_type": "markdown",
   "metadata": {},
   "source": [
    "Let's define a few basic parameters describing the planet. These will help make the plots easier to interpret and be used to mask out the transit for noise characterization. If you need a period, epoch, and duration for your transit, you might find them in the [NASA Exoplanet Archive](https://exoplanetarchive.ipac.caltech.edu/)."
   ]
  },
  {
   "cell_type": "code",
   "execution_count": null,
   "metadata": {},
   "outputs": [],
   "source": [
    "period = 3.4252577 * u.day\n",
    "t0 = 2459111.30170 * u.day\n",
    "duration = 2.4264 * u.hour * 1.1"
   ]
  },
  {
   "cell_type": "markdown",
   "metadata": {},
   "source": [
    "Let's set some very basic plotting defaults. These will try to sync up the vertical limits of light curve plots with the color maps of 2D flux maps."
   ]
  },
  {
   "cell_type": "code",
   "execution_count": null,
   "metadata": {},
   "outputs": [],
   "source": [
    "vmin = 0.98\n",
    "vmax = 1.005\n",
    "ylim = [vmin, vmax]"
   ]
  },
  {
   "cell_type": "markdown",
   "metadata": {},
   "source": [
    "## 🎨 Make Basic Visualizations"
   ]
  },
  {
   "cell_type": "markdown",
   "metadata": {
    "id": "2GtkIn0FE1bR"
   },
   "source": [
    "Let's make some plots to get an overall sense for the dataset. First of all, let's normalize by dividing through by the median stellar spectrum and display a 2D map of the flux. "
   ]
  },
  {
   "cell_type": "code",
   "execution_count": null,
   "metadata": {
    "colab": {
     "base_uri": "https://localhost:8080/",
     "height": 703
    },
    "id": "OCfhSqOoSSLN",
    "outputId": "e19426a3-59a1-4497-e2dd-19b09d4770bb"
   },
   "outputs": [],
   "source": [
    "normalized = rainbow.normalize()"
   ]
  },
  {
   "cell_type": "code",
   "execution_count": null,
   "metadata": {},
   "outputs": [],
   "source": [
    "normalized.pcolormesh(vmin=vmin, vmax=vmax, filename=\"unbinned-2D-flux.png\");"
   ]
  },
  {
   "cell_type": "markdown",
   "metadata": {},
   "source": [
    "Let's trim any bad wavelengths off the edges and phase-fold these data to the planet's known period and time of mid-transit. This latter step is just to make the times easier to interpret."
   ]
  },
  {
   "cell_type": "code",
   "execution_count": null,
   "metadata": {},
   "outputs": [],
   "source": [
    "tidied = normalized.trim().fold(period=period, t0=t0)"
   ]
  },
  {
   "cell_type": "code",
   "execution_count": null,
   "metadata": {},
   "outputs": [],
   "source": [
    "tidied.pcolormesh(vmin=vmin, vmax=vmax, filename=\"trimmed-2D-flux.png\");"
   ]
  },
  {
   "cell_type": "markdown",
   "metadata": {},
   "source": [
    "Now let's bin to a fixed wavelength resolution $R=\\lambda/\\Delta\\lambda$ and cadence $dt$. Be averaging together multiple wavelengths and/or times, we'll decrease the noise (at the cost of worse resolution); some features may become more apparent with stronger binning, as long as the bins aren't so large to smooth features away. We'll normalize again after binning, once the noise has been averaged down a little bit."
   ]
  },
  {
   "cell_type": "code",
   "execution_count": null,
   "metadata": {},
   "outputs": [],
   "source": [
    "binned = tidied.bin(R=100, dt=2 * u.minute).normalize()"
   ]
  },
  {
   "cell_type": "code",
   "execution_count": null,
   "metadata": {
    "colab": {
     "base_uri": "https://localhost:8080/",
     "height": 430
    },
    "id": "1Rzu6aB2eG20",
    "outputId": "1fa022e0-0739-45a6-df75-8c69b5b31795"
   },
   "outputs": [],
   "source": [
    "binned.pcolormesh(vmin=vmin, vmax=vmax, filename=\"binned-2D-flux.png\");"
   ]
  },
  {
   "cell_type": "markdown",
   "metadata": {},
   "source": [
    "If we want to see how these flux maps line up to light curves, we can use the interactive exploration tool to drag and select different wavelength ranges, and plot the (unweighted) average light curves for them. Being able to select particular wavelength ranges allows us to zoom in on features of interest or trends with wavelength."
   ]
  },
  {
   "cell_type": "code",
   "execution_count": null,
   "metadata": {
    "colab": {
     "base_uri": "https://localhost:8080/",
     "height": 345,
     "referenced_widgets": [
      "f342e9dd0a5c4655b7355352719841ca",
      "472b72af296a40d0aa10703aa8f56f9c",
      "e1b46ee65c754b229aff527565808ff5",
      "c808a8c971594a88b874afe778983070",
      "8c1cab3a18bb4a4bac918fb3b31bece4",
      "2ed3714541cb4b0caac21cf25d086e7b",
      "d4f7cb44e75c420bbc4a0ebdebaeb251",
      "42ab88a2a7174d59ad821c63ef678c78",
      "9afff4cedd3f4919a2e072c2b1dd5f23",
      "24fa50f540204a829d05ca0d76265581",
      "5f2385115ad340a98805257af9f5fedc"
     ]
    },
    "id": "qOSKholl7KED",
    "outputId": "8f790783-3911-4d5e-8fb8-bc4fe859cbb8"
   },
   "outputs": [],
   "source": [
    "binned.imshow_interact(ylim=ylim, filename=\"interactive-2D-flux.html\")"
   ]
  },
  {
   "cell_type": "markdown",
   "metadata": {
    "id": "gP5cKkoKF_Ba"
   },
   "source": [
    "Let's make an animation the flips through wavelength bins. Animations can be useful way to to let your eyes take in a lot of light curves in quick succession, to see how trends or noise sources change with wavelength."
   ]
  },
  {
   "cell_type": "code",
   "execution_count": null,
   "metadata": {},
   "outputs": [],
   "source": [
    "binned.animate_lightcurves(ylim=ylim, filename=\"animated-lightcurves.gif\")"
   ]
  },
  {
   "cell_type": "markdown",
   "metadata": {},
   "source": [
    "Let's look at the weighted average light curve, integrating together all the available wavelengths. The binned uncertainties should be smaller than any individual wavelength bin, so this should hopefully be a very precise light curve!"
   ]
  },
  {
   "cell_type": "code",
   "execution_count": null,
   "metadata": {},
   "outputs": [],
   "source": [
    "binned.plot_average_lightcurve(ylim=ylim, filename=\"integrated-lightcurve.png\")"
   ]
  },
  {
   "cell_type": "markdown",
   "metadata": {},
   "source": [
    "Finally, let's bin the data to very low spectral resolution, and then plot a stack of light curves for the separate wavelengths. "
   ]
  },
  {
   "cell_type": "code",
   "execution_count": null,
   "metadata": {},
   "outputs": [],
   "source": [
    "really_binned = binned.bin(R=5)"
   ]
  },
  {
   "cell_type": "code",
   "execution_count": null,
   "metadata": {},
   "outputs": [],
   "source": [
    "really_binned.plot(spacing=(vmax - vmin) / 2, filename=\"stack-of-lightcurves.png\");"
   ]
  },
  {
   "cell_type": "markdown",
   "metadata": {},
   "source": [
    "## 🌫 Characterize the Noise\n",
    "\n",
    "After looking closely at the transit in the data, it can be useful to filter or mask out the transit. By creating a dataset that we expect to be mostly flat, we can characterize the noise properties. First, let's simply mask out the transit and look only at the data before and after it."
   ]
  },
  {
   "cell_type": "code",
   "execution_count": null,
   "metadata": {
    "id": "KyGn321fGQSM"
   },
   "outputs": [],
   "source": [
    "out_of_transit = (\n",
    "    rainbow.trim().mask_transit(period=period, t0=t0, duration=duration).normalize()\n",
    ")"
   ]
  },
  {
   "cell_type": "code",
   "execution_count": null,
   "metadata": {},
   "outputs": [],
   "source": [
    "out_of_transit.pcolormesh(\n",
    "    vmin=vmin, vmax=vmax, filename=\"trimmed-2D-flux-with-transit-removed.png\"\n",
    ");"
   ]
  },
  {
   "cell_type": "markdown",
   "metadata": {},
   "source": [
    "Because unbinned data have the small wavelength and time intervals, and therefore contain the relatively few photons per bin, their expected uncertainties will be large. As we bin to larger wavelength intervals (lower resolution) and longer time intervals, the expected uncertainties will decrease, revealing increasingly subtle features. "
   ]
  },
  {
   "cell_type": "code",
   "execution_count": null,
   "metadata": {
    "colab": {
     "base_uri": "https://localhost:8080/",
     "height": 1000
    },
    "id": "11MIKtBKGZ76",
    "outputId": "fd49c36a-9fc5-498d-95e7-b2e55e1c00cc"
   },
   "outputs": [],
   "source": [
    "resolutions = [None, 30, 10, 3]\n",
    "if rainbow.ntime > 1e4:\n",
    "    dt = 1 * u.minute\n",
    "else:\n",
    "    dt = None\n",
    "\n",
    "binned_rainbows = {}\n",
    "N = len(resolutions)\n",
    "fi, ax = plt.subplots(N, 1, sharex=True, figsize=(8, N * 3))\n",
    "for i, R in enumerate(resolutions):\n",
    "    binned_rainbows[R] = out_of_transit.bin(R=R, dt=dt).normalize()\n",
    "    binned_rainbows[R].pcolormesh(ax=ax[i])\n",
    "    plt.title(f\"R={R}, dt={binned_rainbows[R].dt:.2} | {ax[i].get_title()}\")\n",
    "rainbow.savefig(\"binned-2D-flux-no-transit.png\")"
   ]
  },
  {
   "cell_type": "markdown",
   "metadata": {},
   "source": [
    "If the data were perfect and simple, we would expect the scatter in the out-of-transit flux to match the expected uncertainties for each wavelength. Let's compare the expected and measured scatters, after binning down in wavelength and time. If the measured scatter does not decrease as expected when averaging bins together, there is probably some systematic noise that is correlated across wavelength and/or time that should be addressed."
   ]
  },
  {
   "cell_type": "code",
   "execution_count": null,
   "metadata": {
    "colab": {
     "base_uri": "https://localhost:8080/"
    },
    "id": "WkDxNIGzemXA",
    "outputId": "914e389c-04ef-49a5-97ab-879d6fa10b18"
   },
   "outputs": [],
   "source": [
    "fi, ax = plt.subplots(\n",
    "    N, 2, sharey=True, figsize=(8, N * 3), gridspec_kw=dict(width_ratios=[2, 1])\n",
    ")\n",
    "for i, R in enumerate(binned_rainbows):\n",
    "    binned_rainbows[R].plot_noise_comparison(ax=ax[i, 0], method=\"MAD\")\n",
    "    plt.title(\n",
    "        f\"R={R}, dt={binned_rainbows[R].dt:.2} | with transit removed\\n{ax[i,0].get_title()}\"\n",
    "    )\n",
    "    binned_rainbows[R].plot_noise_comparison_in_bins(ax=ax[i, 1], method=\"MAD\")\n",
    "rainbow.savefig(\"noise-comparison-no-transit.png\")"
   ]
  },
  {
   "cell_type": "markdown",
   "metadata": {},
   "source": [
    "It's possible that excess scatter might be the result of very smooth trends in time. Let's repeat the above analysis of the dataset binned to different wavelength and time intervals, but also remove a smooth quadratic trend in time, which could imagine might be either instrumental or astrophysical. "
   ]
  },
  {
   "cell_type": "code",
   "execution_count": null,
   "metadata": {
    "colab": {
     "base_uri": "https://localhost:8080/",
     "height": 1000
    },
    "id": "11MIKtBKGZ76",
    "outputId": "fd49c36a-9fc5-498d-95e7-b2e55e1c00cc"
   },
   "outputs": [],
   "source": [
    "fi, ax = plt.subplots(N, 1, sharex=True, figsize=(8, N * 3))\n",
    "for i, R in enumerate(binned_rainbows):\n",
    "    with_trend_removed = binned_rainbows[R].remove_trends(method=\"polyfit\", deg=2)\n",
    "    with_trend_removed.pcolormesh(ax=ax[i])\n",
    "    plt.title(f\"R={R}, dt={binned_rainbows[R].dt:.2} | {ax[i].get_title()}\")\n",
    "rainbow.savefig(\"binned-2D-flux-no-transit-no-trends.png\")"
   ]
  },
  {
   "cell_type": "code",
   "execution_count": null,
   "metadata": {},
   "outputs": [],
   "source": [
    "fi, ax = plt.subplots(\n",
    "    N, 2, sharey=True, figsize=(8, N * 3), gridspec_kw=dict(width_ratios=[2, 1])\n",
    ")\n",
    "for i, R in enumerate(binned_rainbows):\n",
    "    with_trend_removed = binned_rainbows[R].remove_trends(method=\"polyfit\", deg=2)\n",
    "    with_trend_removed.plot_noise_comparison(ax=ax[i, 0], method=\"MAD\")\n",
    "    plt.title(\n",
    "        f\"R={R}, dt={binned_rainbows[R].dt:.2} | with transit + trends removed\\n{ax[i,0].get_title()}\"\n",
    "    )\n",
    "    with_trend_removed.plot_noise_comparison_in_bins(ax=ax[i, 1], method=\"MAD\")\n",
    "rainbow.savefig(\"noise-comparison-no-transit-no-trends.png\")"
   ]
  },
  {
   "cell_type": "markdown",
   "metadata": {},
   "source": [
    "That's it! Hopefully these automated visualizations can serve as a useful starting place for understanding the dataset you're working with and for comparing to other analyses. \n",
    "\n"
   ]
  },
  {
   "cell_type": "markdown",
   "metadata": {},
   "source": [
    "## 🗺 Explore Further! \n",
    "\n",
    "You can explore other options to visualize or work with your 🌈 data by using the built-in `.help()` method. On any `Rainbow` object, run this to list available options."
   ]
  },
  {
   "cell_type": "code",
   "execution_count": null,
   "metadata": {},
   "outputs": [],
   "source": [
    "rainbow.help()"
   ]
  }
 ],
 "metadata": {
  "colab": {
   "collapsed_sections": [],
   "name": "initial-draft-of-quicklook-notebook.ipynb",
   "provenance": []
  },
  "kernelspec": {
   "display_name": "Python 3 (ipykernel)",
   "language": "python",
   "name": "python3"
  },
  "language_info": {
   "codemirror_mode": {
    "name": "ipython",
    "version": 3
   },
   "file_extension": ".py",
   "mimetype": "text/x-python",
   "name": "python",
   "nbconvert_exporter": "python",
   "pygments_lexer": "ipython3",
   "version": "3.10.8"
  }
 },
 "nbformat": 4,
 "nbformat_minor": 1
}
