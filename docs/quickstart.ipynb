{
 "cells": [
  {
   "cell_type": "markdown",
   "id": "91653bb3",
   "metadata": {},
   "source": [
    "# 🌈 Quickstart\n",
    "\n",
    "This page shows how to load a time-series spectroscopic dataset, do some basic calculations with it, generate some visualizations, and then save it out to another format. "
   ]
  },
  {
   "cell_type": "code",
   "execution_count": null,
   "id": "7745c111",
   "metadata": {},
   "outputs": [],
   "source": [
    "from chromatic import read_rainbow, version\n",
    "from astroquery.mast import Observations\n",
    "import astropy.units as u"
   ]
  },
  {
   "cell_type": "code",
   "execution_count": null,
   "id": "9925743d",
   "metadata": {},
   "outputs": [],
   "source": [
    "version()"
   ]
  },
  {
   "cell_type": "markdown",
   "id": "7a3ce2f3",
   "metadata": {},
   "source": [
    "## 💾 Download\n",
    "Let's download the [JWST Early Release Observation of HAT-P-18b](https://www.stsci.edu/jwst/science-execution/approved-programs/webb-first-image-observations), one of first exoplanet transit datasets to be gathered by the telescope. We'll get the default pipeline `x1dints` (Stage 3) outputs; there are lots of reasons why we shouldn't use these particular pipeline files for science, but they're useful for a quick initial look."
   ]
  },
  {
   "cell_type": "code",
   "execution_count": null,
   "id": "5e9439e7",
   "metadata": {},
   "outputs": [],
   "source": [
    "Observations.download_file(\n",
    "    f\"mast:JWST/product/jw02734-o001_t001_niriss_clear-gr700xd-substrip256_x1dints.fits\"\n",
    ");"
   ]
  },
  {
   "cell_type": "markdown",
   "id": "2e0b64f2",
   "metadata": {},
   "source": [
    "## 🧑‍💻 Read\n",
    "Next, let's load that transit dataset into a `Rainbow` (🌈) object. These `chromatic` 🌈 objects keep track of how the brightness of source changes across both wavelength and time."
   ]
  },
  {
   "cell_type": "code",
   "execution_count": null,
   "id": "e6f42847",
   "metadata": {},
   "outputs": [],
   "source": [
    "rainbow = read_rainbow(\n",
    "    \"jw02734-o001_t001_niriss_clear-gr700xd-substrip256_x1dints.fits\"\n",
    ")"
   ]
  },
  {
   "cell_type": "markdown",
   "id": "344382ad",
   "metadata": {},
   "source": [
    "The 🌈 object we just loaded provides easy access to the different dimensions we might want from the dataset, arrays like wavelength, time, flux, or uncertainty. If appropriate, quantities will have `astropy` [Units](https://docs.astropy.org/en/stable/units/index.html). "
   ]
  },
  {
   "cell_type": "code",
   "execution_count": null,
   "id": "0ce65b0e",
   "metadata": {},
   "outputs": [],
   "source": [
    "rainbow.wavelength"
   ]
  },
  {
   "cell_type": "code",
   "execution_count": null,
   "id": "6075e928",
   "metadata": {},
   "outputs": [],
   "source": [
    "rainbow.time"
   ]
  },
  {
   "cell_type": "code",
   "execution_count": null,
   "id": "a87577b3",
   "metadata": {},
   "outputs": [],
   "source": [
    "rainbow.flux"
   ]
  },
  {
   "cell_type": "code",
   "execution_count": null,
   "id": "1f5bc632",
   "metadata": {},
   "outputs": [],
   "source": [
    "rainbow.uncertainty"
   ]
  },
  {
   "cell_type": "markdown",
   "id": "030ad243",
   "metadata": {},
   "source": [
    "## 🧮 Calculate"
   ]
  },
  {
   "cell_type": "markdown",
   "id": "a9760f54",
   "metadata": {},
   "source": [
    "The absolute flux doesn't matter that much for many transit analyses, so let's use `.normalize()` to normalize out the median spectrum of the star, converting the data to relative brightness within each wavelength. This 🌈 action returns another 🌈 object, just with the brightness normalized."
   ]
  },
  {
   "cell_type": "code",
   "execution_count": null,
   "id": "48c38d8c",
   "metadata": {},
   "outputs": [],
   "source": [
    "normalized = rainbow.normalize()"
   ]
  },
  {
   "cell_type": "markdown",
   "id": "3b3ebb30",
   "metadata": {},
   "source": [
    "The dataset is really large, so for making some simple visualization it might help to average over bins of wavelength and/or time. Let's use `.bin()` to bin onto a (logarithmically) uniform wavelength grid, returning the binned 🌈."
   ]
  },
  {
   "cell_type": "code",
   "execution_count": null,
   "id": "26cf2f35",
   "metadata": {},
   "outputs": [],
   "source": [
    "binned = normalized.bin(R=200, dt=4 * u.minute)"
   ]
  },
  {
   "cell_type": "markdown",
   "id": "34cdcdd6",
   "metadata": {},
   "source": [
    "The times in this dataset are measured relative to some arbitrary time in the distant past. To make them easier to interpret we can phase-fold the times so they're measured relative to the mid-transit time, when the planet is directly between the star and us, according to the planet's [orbital properties from the NASA Exoplanet Archive](https://exoplanetarchive.ipac.caltech.edu/overview/HAT-P-18). Let's use `.fold()` to change the times, returning a phase-folded 🌈."
   ]
  },
  {
   "cell_type": "code",
   "execution_count": null,
   "id": "822e3733",
   "metadata": {},
   "outputs": [],
   "source": [
    "folded = binned.fold(period=5.5080232 * u.day, t0=2459033.31735 * u.day)"
   ]
  },
  {
   "cell_type": "markdown",
   "id": "2c7f6a9d",
   "metadata": {},
   "source": [
    "## 🎨 Visualize"
   ]
  },
  {
   "cell_type": "markdown",
   "id": "b7e7d8ea",
   "metadata": {},
   "source": [
    "We can visualize the dataset by making a map of the star's brightness across both wavelength and time, an image in which each the brightness along row corresponds to a transit light curve at that wavelength. Let's use `.imshow()` to create this map for the normalized, binned, folded 🌈."
   ]
  },
  {
   "cell_type": "code",
   "execution_count": null,
   "id": "bf700225",
   "metadata": {},
   "outputs": [],
   "source": [
    "folded.imshow();"
   ]
  },
  {
   "cell_type": "markdown",
   "id": "e526f728",
   "metadata": {},
   "source": [
    "It might be nice to look closely at the light curves within a particular wavelength range. Let's use `.imshow_interact()` to interactively explore the 🌈. Click and drag on the panel on the left to select the wavelegnth range to display as a light curve on the right."
   ]
  },
  {
   "cell_type": "code",
   "execution_count": null,
   "id": "ba073918",
   "metadata": {},
   "outputs": [],
   "source": [
    "folded.imshow_interact()"
   ]
  },
  {
   "cell_type": "markdown",
   "id": "5cf32700",
   "metadata": {},
   "source": [
    "What a dataset! It looks like there's something a little odd happening at about 2 microns (probably [contamination from another star or spectrograph order](https://jwst-docs.stsci.edu/jwst-near-infrared-imager-and-slitless-spectrograph/niriss-features-and-caveats)) and a starspot crossing just after mid-transit, but otherwise it's a remarkably beautiful transit from a very impressive telescope!"
   ]
  },
  {
   "cell_type": "markdown",
   "id": "4e55a26d",
   "metadata": {},
   "source": [
    "## 🧶 Build\n",
    "Because many of the actions possible with 🌈 objects return other 🌈 objects, it's possible to connect multiple steps into a single command, building up complicated analysis stories with relatively succinct code."
   ]
  },
  {
   "cell_type": "code",
   "execution_count": null,
   "id": "7cfe9a49",
   "metadata": {},
   "outputs": [],
   "source": [
    "(\n",
    "    rainbow.normalize()\n",
    "    .flag_outliers()\n",
    "    .bin(R=10)\n",
    "    .fold(period=5.5080232 * u.day, t0=2459033.31735 * u.day)\n",
    "    .plot()\n",
    ");"
   ]
  },
  {
   "cell_type": "markdown",
   "id": "143156f5",
   "metadata": {},
   "source": [
    "## 💾 Save\n",
    "\n",
    "Let's convert these data into a different format by saving it as a new file, which we might send around to share with our colleagues or publish along with a paper. `chromatic` can read and save 🌈 datasets with a variety of formats, to try to ease collaboration across different pipelines and toolkits."
   ]
  },
  {
   "cell_type": "code",
   "execution_count": null,
   "id": "70a1a115",
   "metadata": {},
   "outputs": [],
   "source": [
    "rainbow.save(\"jwst-hatp18b.rainbow.npy\")"
   ]
  },
  {
   "cell_type": "markdown",
   "id": "23aa7da8",
   "metadata": {},
   "source": [
    "## 📚 Learn\n",
    "\n",
    "That's it! This quick tutorial highlighted `chromatic`'s abilities to...\n",
    "- load in time-series spectra or multiwavelength light curves from formats like `x1dints`\n",
    "- access core data variables like `wavelength`, `time`, `flux`, `uncertainty`\n",
    "- perform calculations like `.normalize`, `.bin`, `.fold` \n",
    "- visualize the data with `.imshow`, `.imshow_interact`, `.plot`\n",
    "\n",
    "Hopefully, you're now curious to read through the [User Guide](basics) to learn more about options for reading 🌈s, doing actions with 🌈s, visualizing 🌈s in different ways, and more! You can also run the `.help()` method associated with any 🌈 object to get a quick summary of what other methods are available for it>"
   ]
  },
  {
   "cell_type": "code",
   "execution_count": null,
   "id": "abc9595d",
   "metadata": {
    "scrolled": true
   },
   "outputs": [],
   "source": [
    "rainbow.help()"
   ]
  }
 ],
 "metadata": {
  "kernelspec": {
   "display_name": "Python 3 (ipykernel)",
   "language": "python",
   "name": "python3"
  },
  "language_info": {
   "codemirror_mode": {
    "name": "ipython",
    "version": 3
   },
   "file_extension": ".py",
   "mimetype": "text/x-python",
   "name": "python",
   "nbconvert_exporter": "python",
   "pygments_lexer": "ipython3",
   "version": "3.10.8"
  }
 },
 "nbformat": 4,
 "nbformat_minor": 5
}
