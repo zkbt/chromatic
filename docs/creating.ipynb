{
 "cells": [
  {
   "cell_type": "markdown",
   "id": "fbc32de2",
   "metadata": {},
   "source": [
    "# Creating a 🌈  from Arrays\n",
    "\n",
    "You can create a `Rainbow` object from arrays representing wavelength, time, flux, and any other array quantities that have the same shape as one of those first three (see [Basics of 🌈 Objects](../basics)). Here, we show how to construct 🌈s from arrays by creating some (very cartoonish) simulated datasets of time-series spectra. "
   ]
  },
  {
   "cell_type": "code",
   "execution_count": null,
   "id": "0537642a",
   "metadata": {},
   "outputs": [],
   "source": [
    "from chromatic import Rainbow, RainbowWithModel, SimulatedRainbow, version\n",
    "from chromatic import np, plt, u"
   ]
  },
  {
   "cell_type": "code",
   "execution_count": null,
   "id": "5002f64c",
   "metadata": {},
   "outputs": [],
   "source": [
    "version()"
   ]
  },
  {
   "cell_type": "markdown",
   "id": "7d4d7d99",
   "metadata": {},
   "source": [
    "## Shortest Example\n",
    "This example shows, in the fewest code lines possible, how to create a 🌈 by supplying your own custom arrays. It doesn't explain things very carefully though, so please read on to the other examples for a friendlier introduction. In this example, we populate a 🌈 with both data and model, but if you don't plan to use the any model comparison features you can simply skip the `model=` keyword."
   ]
  },
  {
   "cell_type": "code",
   "execution_count": null,
   "id": "b760312a",
   "metadata": {},
   "outputs": [],
   "source": [
    "N_wavelengths, N_times = 13, 17\n",
    "r = RainbowWithModel(\n",
    "    wavelength=np.linspace(1, 2, N_wavelengths) * u.micron,\n",
    "    time=np.linspace(-0.1, 0.1, N_times) * u.day,\n",
    "    flux=np.random.normal(1, 0.01, [N_wavelengths, N_times]),\n",
    "    uncertainty=np.ones([N_wavelengths, N_times]) * 0.01,\n",
    "    ok=np.random.uniform(0, 1, [N_wavelengths, N_times]) > 0.1,\n",
    "    model=np.ones([N_wavelengths, N_times]),\n",
    ")"
   ]
  },
  {
   "cell_type": "markdown",
   "id": "9f09e133",
   "metadata": {},
   "source": [
    "That's it! We've created a new 🌈 object just by supplying a few arrays. To make sure it worked, let's make a plot."
   ]
  },
  {
   "cell_type": "code",
   "execution_count": null,
   "id": "3abbfb92",
   "metadata": {},
   "outputs": [],
   "source": [
    "r.plot_with_model();"
   ]
  },
  {
   "cell_type": "markdown",
   "id": "82197f72",
   "metadata": {},
   "source": [
    "## Simplest Example\n",
    "*For the simplest example, we'll make a 🌈 out of `wavelength`, `time`, and `flux`.*"
   ]
  },
  {
   "cell_type": "markdown",
   "id": "fba20464",
   "metadata": {},
   "source": [
    "First, let's create an array of wavelengths. We'll use [astropy units](https://docs.astropy.org/en/stable/units/index.html) to specify that the units of wavelength are in micron. Setting the units explicitly helps save us from confusion and ruin later on!"
   ]
  },
  {
   "cell_type": "code",
   "execution_count": null,
   "id": "7e05c0ee",
   "metadata": {},
   "outputs": [],
   "source": [
    "N_wavelengths = 7\n",
    "my_neat_wavelengths = np.linspace(0.5, 5, N_wavelengths) * u.micron"
   ]
  },
  {
   "cell_type": "code",
   "execution_count": null,
   "id": "5f446580",
   "metadata": {},
   "outputs": [],
   "source": [
    "my_neat_wavelengths"
   ]
  },
  {
   "cell_type": "markdown",
   "id": "272cee19",
   "metadata": {},
   "source": [
    "Next, let's create some times. Again, we'll give them units of time."
   ]
  },
  {
   "cell_type": "code",
   "execution_count": null,
   "id": "acae9a0d",
   "metadata": {},
   "outputs": [],
   "source": [
    "N_times = 11\n",
    "my_swell_times = np.linspace(-0.1, 0.1, N_times) * u.day"
   ]
  },
  {
   "cell_type": "code",
   "execution_count": null,
   "id": "1e3cd229",
   "metadata": {},
   "outputs": [],
   "source": [
    "my_swell_times"
   ]
  },
  {
   "cell_type": "markdown",
   "id": "24aa7cf8",
   "metadata": {},
   "source": [
    "And finally, let's make some fluxes associated with each of these wavelengths and times. In general, you'll want to assemble this array of fluxes out of a series of spectra or a group of light curves, but for this example the flux will just be totally random. The first dimension (row) of this array should correspond to wavelength, and the second (column) to time."
   ]
  },
  {
   "cell_type": "code",
   "execution_count": null,
   "id": "1ff4c105",
   "metadata": {},
   "outputs": [],
   "source": [
    "my_great_fluxes = np.random.normal(1, 0.01, size=(N_wavelengths, N_times))"
   ]
  },
  {
   "cell_type": "markdown",
   "id": "d3f6b906",
   "metadata": {},
   "source": [
    "With those arrays, we can create a 🌈 by feeding them in as keywords to `Rainbow`:"
   ]
  },
  {
   "cell_type": "code",
   "execution_count": null,
   "id": "93a1f33b",
   "metadata": {},
   "outputs": [],
   "source": [
    "r = Rainbow(wavelength=my_neat_wavelengths, time=my_swell_times, flux=my_great_fluxes)"
   ]
  },
  {
   "cell_type": "markdown",
   "id": "6bfdaa7f",
   "metadata": {},
   "source": [
    "Ta-da! Now those wavelengths, times, and fluxes have been connected into one 🌈!"
   ]
  },
  {
   "cell_type": "code",
   "execution_count": null,
   "id": "b827b4b4",
   "metadata": {},
   "outputs": [],
   "source": [
    "r"
   ]
  },
  {
   "cell_type": "code",
   "execution_count": null,
   "id": "2b6886f5",
   "metadata": {},
   "outputs": [],
   "source": [
    "r.paint();"
   ]
  },
  {
   "cell_type": "markdown",
   "id": "cedca76f",
   "metadata": {},
   "source": [
    "## Slightly More Complicated Example\n",
    "\n",
    "*For a tiny bit more complexity, let's also add uncertainties when defining our 🌈.* "
   ]
  },
  {
   "cell_type": "markdown",
   "id": "62d5470d",
   "metadata": {},
   "source": [
    "We'll use the same wavelength and time grids as before, but let's define some uncertainties and fluxes together."
   ]
  },
  {
   "cell_type": "code",
   "execution_count": null,
   "id": "be97cfd9",
   "metadata": {},
   "outputs": [],
   "source": [
    "my_cool_uncertainties = np.ones((N_wavelengths, N_times))\n",
    "my_cool_uncertainties *= np.linspace(0.01, 0.05, N_wavelengths)[:, np.newaxis]"
   ]
  },
  {
   "cell_type": "code",
   "execution_count": null,
   "id": "54baf305",
   "metadata": {},
   "outputs": [],
   "source": [
    "my_cool_fluxes = np.random.normal(1, my_cool_uncertainties)"
   ]
  },
  {
   "cell_type": "markdown",
   "id": "ebca7254",
   "metadata": {},
   "source": [
    "To include the uncertainty values, just add an `uncertainty` keyword:"
   ]
  },
  {
   "cell_type": "code",
   "execution_count": null,
   "id": "aac2e264",
   "metadata": {},
   "outputs": [],
   "source": [
    "r = Rainbow(\n",
    "    wavelength=my_neat_wavelengths,\n",
    "    time=my_swell_times,\n",
    "    flux=my_cool_fluxes,\n",
    "    uncertainty=my_cool_uncertainties,\n",
    ")"
   ]
  },
  {
   "cell_type": "markdown",
   "id": "2480dd47",
   "metadata": {},
   "source": [
    "Huzzah! Now there's a rainbow that has an uncertainty associated with each flux. These uncertainties will be helpful if you want to compare your data to models, or if for downweighting more uncertain points when binning together in time or wavelength."
   ]
  },
  {
   "cell_type": "code",
   "execution_count": null,
   "id": "65f3153c",
   "metadata": {},
   "outputs": [],
   "source": [
    "fi, ax = plt.subplots(1, 2, figsize=(10, 3))\n",
    "r.paint(quantity=\"uncertainty\", ax=ax[0])\n",
    "r.paint(ax=ax[1]);"
   ]
  },
  {
   "cell_type": "markdown",
   "id": "d0186529",
   "metadata": {},
   "source": [
    "## Most Comprehensive Example\n",
    "\n",
    "*For completeness, let's also add some more quantities that align with either the wavelengths, the times, or the fluxes.* "
   ]
  },
  {
   "cell_type": "markdown",
   "id": "bf775e32",
   "metadata": {},
   "source": [
    "Imagine you have a time series of centroid positions (one for each time), or perhaps you recorded the background flux that was subtracted during spectral extraction (one for each wavelength and time), or you have other quantities that would be useful to keep connected to your time-series spectra. Let's make some of these, as examples:"
   ]
  },
  {
   "cell_type": "code",
   "execution_count": null,
   "id": "3a145198",
   "metadata": {},
   "outputs": [],
   "source": [
    "my_wobbly_centroids = np.random.normal(5, 0.02, N_times) * u.pixel\n",
    "my_messy_backgrounds = (\n",
    "    np.random.normal(10, 0.1, (N_wavelengths, N_times)) * u.photon / u.s\n",
    ")\n",
    "my_stellar_spectrum = np.random.uniform(2, 3, N_wavelengths) * u.W / u.m**2"
   ]
  },
  {
   "cell_type": "markdown",
   "id": "9c3f0ff2",
   "metadata": {},
   "source": [
    "You can populate additional arrays inside a rainbow by providing them as additional keyword arguments. Any names are allowed, except for a few protected keywords (`filepath`, `format`, `wavelike`, `timelike`, `fluxlike`, `metadata`). "
   ]
  },
  {
   "cell_type": "code",
   "execution_count": null,
   "id": "65e78d49",
   "metadata": {},
   "outputs": [],
   "source": [
    "r = Rainbow(\n",
    "    wavelength=my_neat_wavelengths,\n",
    "    time=my_swell_times,\n",
    "    flux=my_cool_fluxes,\n",
    "    uncertainty=my_cool_uncertainties,\n",
    "    centroid=my_wobbly_centroids,\n",
    "    background=my_messy_backgrounds,\n",
    "    stellar_spectrum=my_stellar_spectrum,\n",
    ")"
   ]
  },
  {
   "cell_type": "markdown",
   "id": "ad58e85c",
   "metadata": {},
   "source": [
    "Arrays will be sorted into `wavelike`, `timelike`, and `fluxlike` dictionaries based on their shape. "
   ]
  },
  {
   "cell_type": "code",
   "execution_count": null,
   "id": "40c15087",
   "metadata": {},
   "outputs": [],
   "source": [
    "r.wavelike"
   ]
  },
  {
   "cell_type": "code",
   "execution_count": null,
   "id": "fe794d81",
   "metadata": {},
   "outputs": [],
   "source": [
    "r.timelike"
   ]
  },
  {
   "cell_type": "code",
   "execution_count": null,
   "id": "13019de5",
   "metadata": {},
   "outputs": [],
   "source": [
    "r.fluxlike"
   ]
  },
  {
   "cell_type": "markdown",
   "id": "596edff3",
   "metadata": {},
   "source": [
    "Let's also attach a model to our `Rainbow` to unlike some snazzy model plotting features. The `.attach_model()` action can be used to do this."
   ]
  },
  {
   "cell_type": "code",
   "execution_count": null,
   "id": "f0d5edcf",
   "metadata": {},
   "outputs": [],
   "source": [
    "m = r.attach_model(model=np.ones_like(my_cool_fluxes))"
   ]
  },
  {
   "cell_type": "code",
   "execution_count": null,
   "id": "33e571e9",
   "metadata": {},
   "outputs": [],
   "source": [
    "type(r)"
   ]
  },
  {
   "cell_type": "code",
   "execution_count": null,
   "id": "3cacef65",
   "metadata": {},
   "outputs": [],
   "source": [
    "type(m)"
   ]
  },
  {
   "cell_type": "markdown",
   "id": "07cee059",
   "metadata": {},
   "source": [
    "The `.attach_model()` action generates a new type of object, the `RainbowWithModel`. These objects have more abilities that require comparing data to a model. Below, we can call `m.plot_with_model()` but we wouldn't be able to call `r.plot_with_model()` because `r` doesn't have any model associated with it."
   ]
  },
  {
   "cell_type": "code",
   "execution_count": null,
   "id": "09a75fe5",
   "metadata": {},
   "outputs": [],
   "source": [
    "m.plot_with_model();"
   ]
  },
  {
   "cell_type": "markdown",
   "id": "86307081",
   "metadata": {},
   "source": [
    "You can also add arrays directly to a core dictionary by (a) providing a key and an array with the right shape or (b) setting an attribute with an array that would fit in one of the `timelike`, `wavelike`, or `fluxlike` dictionaries. The latter option will try to guess where an array belongs based on its shape, which should *mostly* work. The following two methods should be identical:"
   ]
  },
  {
   "cell_type": "code",
   "execution_count": null,
   "id": "c9fcb2f9",
   "metadata": {},
   "outputs": [],
   "source": [
    "my_imaginary_temperatures = np.random.normal(77, 0.3, N_times)\n",
    "r.timelike[\"detector_temperature\"] = my_imaginary_temperatures\n",
    "r.detector_temperature = my_imaginary_temperatures"
   ]
  },
  {
   "cell_type": "markdown",
   "id": "9f14443b",
   "metadata": {},
   "source": [
    "## Metadata Example\n",
    "\n",
    "Except for some protected words (`wavelength`, `time`, `flux`, `uncertainty`, `ok`, `model`, other class method names, and a few others), any other attributes you set for a rainbow object will be stored in the `.metadata` core dictionary, so they can be saved and shared. This can be a nice way to document important human-readable information that's useful for interpretting the data."
   ]
  },
  {
   "cell_type": "code",
   "execution_count": null,
   "id": "e2c1c8bd",
   "metadata": {},
   "outputs": [],
   "source": [
    "s = SimulatedRainbow()"
   ]
  },
  {
   "cell_type": "code",
   "execution_count": null,
   "id": "8873397a",
   "metadata": {},
   "outputs": [],
   "source": [
    "s.author = \"Zach Berta-Thompson\"\n",
    "s.warning = \"Watch out! These data are entirely imaginary!\""
   ]
  },
  {
   "cell_type": "markdown",
   "id": "51c1dc32",
   "metadata": {},
   "source": [
    "You can also edit the `.metadata` dictionary directly."
   ]
  },
  {
   "cell_type": "code",
   "execution_count": null,
   "id": "f20c64d2",
   "metadata": {},
   "outputs": [],
   "source": [
    "s.metadata[\"and another thing\"] = \"Be kind!\""
   ]
  },
  {
   "cell_type": "markdown",
   "id": "dda5b989",
   "metadata": {},
   "source": [
    "When we look at the metadata, you'll notice there are a already few other entries that have been automatically populated. If at all possible, it's probably best to try to avoid overwriting those."
   ]
  },
  {
   "cell_type": "code",
   "execution_count": null,
   "id": "2ec0af60",
   "metadata": {},
   "outputs": [],
   "source": [
    "s.metadata"
   ]
  },
  {
   "cell_type": "markdown",
   "id": "509c3238",
   "metadata": {},
   "source": [
    "Wahoo! You've done it! Now you can create a 🌈 from whatever arrays and/or data you have available!"
   ]
  }
 ],
 "metadata": {
  "kernelspec": {
   "display_name": "Python 3 (ipykernel)",
   "language": "python",
   "name": "python3"
  },
  "language_info": {
   "codemirror_mode": {
    "name": "ipython",
    "version": 3
   },
   "file_extension": ".py",
   "mimetype": "text/x-python",
   "name": "python",
   "nbconvert_exporter": "python",
   "pygments_lexer": "ipython3",
   "version": "3.10.4"
  }
 },
 "nbformat": 4,
 "nbformat_minor": 5
}
