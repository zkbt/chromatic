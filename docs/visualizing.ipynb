{
 "cells": [
  {
   "attachments": {},
   "cell_type": "markdown",
   "metadata": {},
   "source": [
    "# 🌈 Visualizations\n",
    "\n",
    "`chromatic` provides built-in visualizations for 🌈 datasets, trying to make it easier to look closely at complicated data and to facilitate standardized comparisons across different analyses."
   ]
  },
  {
   "cell_type": "code",
   "execution_count": null,
   "metadata": {},
   "outputs": [],
   "source": [
    "from chromatic import SimulatedRainbow, version\n",
    "from chromatic import plt, np, u"
   ]
  },
  {
   "cell_type": "code",
   "execution_count": null,
   "metadata": {},
   "outputs": [],
   "source": [
    "version()"
   ]
  },
  {
   "attachments": {},
   "cell_type": "markdown",
   "metadata": {},
   "source": [
    "We'll demonstrate some of the standard visualizations by generating a simulated rainbow with a cute wavelength-dependent transit signal injected into it."
   ]
  },
  {
   "cell_type": "code",
   "execution_count": null,
   "metadata": {},
   "outputs": [],
   "source": [
    "s = SimulatedRainbow(dw=0.1 * u.micron, dt=4 * u.minute)\n",
    "\n",
    "# inject an interesting transit signal\n",
    "theta = np.linspace(0, 2 * np.pi, s.nwave)\n",
    "planet_radius = np.sin(theta) * 0.05 + 0.2\n",
    "r = s.inject_transit(planet_radius=planet_radius).inject_noise()"
   ]
  },
  {
   "attachments": {},
   "cell_type": "markdown",
   "metadata": {},
   "source": [
    "## 🌈.imshow()\n",
    "\n",
    "Display the flux as an image, with each pixel representing the flux for a particular time and wavelength."
   ]
  },
  {
   "cell_type": "code",
   "execution_count": null,
   "metadata": {},
   "outputs": [],
   "source": [
    "r.imshow();"
   ]
  },
  {
   "attachments": {},
   "cell_type": "markdown",
   "metadata": {},
   "source": [
    "There are a few options you might want to change."
   ]
  },
  {
   "cell_type": "code",
   "execution_count": null,
   "metadata": {},
   "outputs": [],
   "source": [
    "r.imshow(cmap=\"gray\", colorbar=False, w_unit=\"nm\", t_unit=\"minute\");"
   ]
  },
  {
   "attachments": {},
   "cell_type": "markdown",
   "metadata": {},
   "source": [
    "Or, you might want to plot a different quantity instead."
   ]
  },
  {
   "cell_type": "code",
   "execution_count": null,
   "metadata": {},
   "outputs": [],
   "source": [
    "r.imshow(quantity=\"model\");"
   ]
  },
  {
   "attachments": {},
   "cell_type": "markdown",
   "metadata": {},
   "source": [
    "`.imshow` is often a good way to quickly display `Rainbow` objects with wavelengths and times that are approximately uniformly spaced, either linearly or logarithmically. `.pcolormesh` and `.scatter` offer more flexibility for less uniform grids. "
   ]
  },
  {
   "attachments": {},
   "cell_type": "markdown",
   "metadata": {},
   "source": [
    "## 🌈.imshow_interact()\n",
    "\n",
    "Display the flux as an image on the left, with the ability to drag and select which wavelengths you would like to appear in the light curve plot on the right."
   ]
  },
  {
   "cell_type": "code",
   "execution_count": null,
   "metadata": {},
   "outputs": [],
   "source": [
    "r.imshow_interact();"
   ]
  },
  {
   "attachments": {},
   "cell_type": "markdown",
   "metadata": {},
   "source": [
    "Like `imshow()`, there are options you might like to change (see [Vega documentation](https://vega.github.io/vega/docs/schemes/) for color schemes):"
   ]
  },
  {
   "cell_type": "code",
   "execution_count": null,
   "metadata": {},
   "outputs": [],
   "source": [
    "r.imshow_interact(cmap=\"magma\", t_unit=\"h\", w_unit=\"nm\", ylim=[0.93, 1.01])"
   ]
  },
  {
   "attachments": {},
   "cell_type": "markdown",
   "metadata": {},
   "source": [
    "## 🌈.pcolormesh()\n",
    "\n",
    "Display the flux as an image, with each pixel representing the flux for a particular time and wavelength, but using `plt.pcolormesh` which allows pixels to stretch and squeeze based on the actual locations of their edges. Use `.imshow()` if you want wavelength/time bins to appear with the uniform sizes; use `.pcolormesh()` if you want to allow them to transform with the axes or non-uniform edges. It accepts most of the same options as `.imshow()`.\n"
   ]
  },
  {
   "cell_type": "code",
   "execution_count": null,
   "metadata": {},
   "outputs": [],
   "source": [
    "r.pcolormesh();"
   ]
  },
  {
   "cell_type": "code",
   "execution_count": null,
   "metadata": {},
   "outputs": [],
   "source": [
    "r.pcolormesh()\n",
    "plt.yscale(\"log\")"
   ]
  },
  {
   "attachments": {},
   "cell_type": "markdown",
   "metadata": {},
   "source": [
    "`.pcolormesh` is often a good way to quickly display `Rainbow` objects with wavelengths and times that are smoothly varying but not necessarily exactly linearly or logarithmically spaced. `.imshow` is faster for uniform grids, and `.scatter` offer more flexibility for less uniform grids. "
   ]
  },
  {
   "attachments": {},
   "cell_type": "markdown",
   "metadata": {},
   "source": [
    "## 🌈.scatter()\n",
    "\n",
    "Display the flux as a sparesely populated image, with each pixel representing the flux for a particular time and wavelength, using `plt.scatter` to paint fluxes only where valid wavelength and time points exist. It accepts most of the same options as `.imshow()`."
   ]
  },
  {
   "cell_type": "code",
   "execution_count": null,
   "metadata": {},
   "outputs": [],
   "source": [
    "r.scatter()"
   ]
  },
  {
   "attachments": {},
   "cell_type": "markdown",
   "metadata": {},
   "source": [
    "`.scatter` is often a good way to quickly display `Rainbow` objects with wavelengths and times that are sparse or extremely non-uniform. `.imshow` and `.pcolormesh` will be faster and may look more professional for smooth, contiguous wavelength and time grids."
   ]
  },
  {
   "attachments": {},
   "cell_type": "markdown",
   "metadata": {},
   "source": [
    "## 🌈.plot()\n",
    "\n",
    "Display the flux by plotting a sequence of light curves for different wavelengths, with each curve representing the flux for a particular wavelength. "
   ]
  },
  {
   "cell_type": "code",
   "execution_count": null,
   "metadata": {},
   "outputs": [],
   "source": [
    "r.plot();"
   ]
  },
  {
   "attachments": {},
   "cell_type": "markdown",
   "metadata": {},
   "source": [
    "Eep! Since it plots an individual light curve for each wavelength, plotting lots of wavelengths at once will cause things to overlap and blend together. You might want to bin your rainbow before plotting it."
   ]
  },
  {
   "cell_type": "code",
   "execution_count": null,
   "metadata": {},
   "outputs": [],
   "source": [
    "r.bin(R=3).plot();"
   ]
  },
  {
   "attachments": {},
   "cell_type": "markdown",
   "metadata": {},
   "source": [
    "There are a few options you might want to change."
   ]
  },
  {
   "cell_type": "code",
   "execution_count": null,
   "metadata": {},
   "outputs": [],
   "source": [
    "r.bin(R=3).plot(\n",
    "    cmap=\"copper\",\n",
    "    w_unit=\"nm\",\n",
    "    t_unit=\"minute\",\n",
    "    plotkw=dict(marker=\"s\", markersize=2, linewidth=0),\n",
    "    textkw=dict(color=\"black\", fontweight=\"bold\"),\n",
    ")"
   ]
  },
  {
   "attachments": {},
   "cell_type": "markdown",
   "metadata": {},
   "source": [
    "This visualization returns an `ax` object, which is the Axes where the plot was generated. You can feed that `ax` into another plot command to overplot on top."
   ]
  },
  {
   "cell_type": "code",
   "execution_count": null,
   "metadata": {},
   "outputs": [],
   "source": [
    "ax = r.bin(R=3).plot(\n",
    "    errorbar=False, plotkw=dict(alpha=0.2, markeredgecolor=\"none\", linewidth=0)\n",
    ")\n",
    "r.bin(R=3, dt=15 * u.minute).plot(ax=ax);"
   ]
  },
  {
   "attachments": {},
   "cell_type": "markdown",
   "metadata": {},
   "source": [
    "## 🌈.animate_lightcurves()\n",
    "\n",
    "Display the flux by animating a sequence of light curve plots, flipping through different wavelengths."
   ]
  },
  {
   "cell_type": "code",
   "execution_count": null,
   "metadata": {},
   "outputs": [],
   "source": [
    "r.animate_lightcurves();"
   ]
  },
  {
   "attachments": {},
   "cell_type": "markdown",
   "metadata": {},
   "source": [
    "## 🌈.animate_spectra()\n",
    "\n",
    "Display the flux by animating a sequence of spectrum plots, flipping through different times."
   ]
  },
  {
   "cell_type": "code",
   "execution_count": null,
   "metadata": {},
   "outputs": [],
   "source": [
    "r.animate_spectra();"
   ]
  },
  {
   "attachments": {},
   "cell_type": "markdown",
   "metadata": {},
   "source": [
    "## 🌈.imshow_quantities()\n",
    "\n",
    "Visualize all the `imshow`-able quantities (things with same shape as `flux`)."
   ]
  },
  {
   "cell_type": "code",
   "execution_count": null,
   "metadata": {},
   "outputs": [],
   "source": [
    "r.imshow_quantities(maxcol=4);"
   ]
  },
  {
   "attachments": {},
   "cell_type": "markdown",
   "metadata": {},
   "source": [
    "## 🌈.plot_quantities()\n",
    "\n",
    "Plot quantities that can be expressed as time series or as spectra (things with same shape as `time` or `wavelength`)."
   ]
  },
  {
   "cell_type": "code",
   "execution_count": null,
   "metadata": {},
   "outputs": [],
   "source": [
    "r.plot_quantities(xaxis=\"time\");"
   ]
  },
  {
   "cell_type": "code",
   "execution_count": null,
   "metadata": {},
   "outputs": [],
   "source": [
    "r.plot_quantities(xaxis=\"wavelength\");"
   ]
  },
  {
   "attachments": {},
   "cell_type": "markdown",
   "metadata": {},
   "source": [
    "## How do we do more with these plots?\n",
    "\n",
    "Whatever plots you make, you can continue to call additional `plt` commands after the plot has been generated. For example, you could add a title with `plt.title()` or save the figure with `plt.savefig(filename)`. "
   ]
  },
  {
   "attachments": {},
   "cell_type": "markdown",
   "metadata": {},
   "source": [
    "## What's next?\n",
    "\n",
    "To find other visualization options for your 🌈 object, run the `.help()` and try things out! If you would like another kind of a visualization that doesn't already exist, please [submit an Issue](../github#Should-I-submit-an-Issue-to-the-chromatic-GitHub-repository?) to discuss it."
   ]
  }
 ],
 "metadata": {
  "kernelspec": {
   "display_name": "Python 3 (ipykernel)",
   "language": "python",
   "name": "python3"
  },
  "language_info": {
   "codemirror_mode": {
    "name": "ipython",
    "version": 3
   },
   "file_extension": ".py",
   "mimetype": "text/x-python",
   "name": "python",
   "nbconvert_exporter": "python",
   "pygments_lexer": "ipython3",
   "version": "3.10.8"
  }
 },
 "nbformat": 4,
 "nbformat_minor": 4
}
