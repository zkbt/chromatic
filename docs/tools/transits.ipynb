{
 "cells": [
  {
   "cell_type": "markdown",
   "id": "b9327a8a",
   "metadata": {},
   "source": [
    "# Making Model Transits \n",
    "\n",
    "When making simulated datasets, the `.inject_transit` action can use two different functions for making transits. We make those functions directly available, in case you want to use them for your own wonderful purposes.  The options are:\n",
    "- `exoplanet_transit` = limb-darkened transits generated with [`exoplanet_core`](https://github.com/exoplanet-dev/exoplanet-core)\n",
    "- `trapezoidal_transit` = a very simple non-limb-darkened trapezoidal transit as in [Winn (2010)](https://ui.adsabs.harvard.edu/abs/2010exop.book...55W/abstract)\n",
    "\n",
    "You should probably use `exoplanet_transit`, unless you have a good reason to want to use a cartoon trapezoid instead."
   ]
  },
  {
   "cell_type": "code",
   "execution_count": null,
   "id": "68e8e313",
   "metadata": {},
   "outputs": [],
   "source": [
    "from chromatic import exoplanet_transit, trapezoidal_transit\n",
    "import numpy as np, matplotlib.pyplot as plt"
   ]
  },
  {
   "cell_type": "markdown",
   "id": "3db25f93",
   "metadata": {},
   "source": [
    "The first argument to each of these model function is the array of times for which the flux should be computed, and the remaining keyword arguments allow you to change the planet parameters."
   ]
  },
  {
   "cell_type": "code",
   "execution_count": null,
   "id": "59a92204",
   "metadata": {},
   "outputs": [],
   "source": [
    "t = np.linspace(-0.1, 0.1, 1000)\n",
    "plt.figure(figsize=(8, 3))\n",
    "for rp, c in zip([0.09, 0.1, 0.11], [\"orange\", \"red\", \"purple\"]):\n",
    "    limb_darkened_model = exoplanet_transit(t, rp=rp)\n",
    "    plt.plot(t, limb_darkened_model, color=c, label=f\"$R_p$ = {rp:.2f}\")\n",
    "    trapezoid_model = trapezoidal_transit(t, delta=rp**2)\n",
    "    plt.plot(t, trapezoid_model, color=c, linestyle=\"--\", label=f\"$R_p$ = {rp:.2f}\")\n",
    "plt.xlabel(\"Time (days)\")\n",
    "plt.ylabel(\"Relative Flux\")\n",
    "plt.legend(frameon=False);"
   ]
  },
  {
   "cell_type": "markdown",
   "id": "f7a12e8d",
   "metadata": {},
   "source": [
    "## "
   ]
  },
  {
   "cell_type": "markdown",
   "id": "c5152191",
   "metadata": {},
   "source": [
    "These two functions take different keywords, as explained in their docstrings."
   ]
  },
  {
   "cell_type": "code",
   "execution_count": null,
   "id": "b8d1b3a4",
   "metadata": {},
   "outputs": [],
   "source": [
    "exoplanet_transit?"
   ]
  },
  {
   "cell_type": "code",
   "execution_count": null,
   "id": "b4ab2373",
   "metadata": {},
   "outputs": [],
   "source": [
    "trapezoidal_transit?"
   ]
  },
  {
   "cell_type": "markdown",
   "id": "57e733c7",
   "metadata": {},
   "source": [
    "Have fun!"
   ]
  }
 ],
 "metadata": {
  "kernelspec": {
   "display_name": "exoatlas",
   "language": "python",
   "name": "python3"
  },
  "language_info": {
   "codemirror_mode": {
    "name": "ipython",
    "version": 3
   },
   "file_extension": ".py",
   "mimetype": "text/x-python",
   "name": "python",
   "nbconvert_exporter": "python",
   "pygments_lexer": "ipython3",
   "version": "3.13.2"
  }
 },
 "nbformat": 4,
 "nbformat_minor": 5
}
