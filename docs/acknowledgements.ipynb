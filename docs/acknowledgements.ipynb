{
 "cells": [
  {
   "cell_type": "markdown",
   "metadata": {
    "vscode": {
     "languageId": "plaintext"
    }
   },
   "source": [
    "# Acknowledgements\n",
    "\n",
    "We gratefully acknowledge the effort and financial support that have gone into the development of this open-source code tool."
   ]
  },
  {
   "cell_type": "markdown",
   "metadata": {
    "vscode": {
     "languageId": "plaintext"
    }
   },
   "source": [
    "## Authors\n",
    "\n",
    "This package results from the generous collaborative efforts of scientists all over the world. The list of of [contributors on GitHub](https://github.com/zkbt/chromatic/graphs/contributors) is the most up-to-date reference of who has helped. "
   ]
  },
  {
   "cell_type": "markdown",
   "metadata": {},
   "source": [
    "## Funding \n",
    "*This material is based upon work supported by the National Science Foundation under Grant Number 1945633.*\n",
    "\n",
    "*Any opinions, findings, and conclusions or recommendations expressed in this material are those of the author(s) and do not necessarily reflect the views of the National Science Foundation.*"
   ]
  }
 ],
 "metadata": {
  "language_info": {
   "name": "python"
  }
 },
 "nbformat": 4,
 "nbformat_minor": 2
}
