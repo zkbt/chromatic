{
 "cells": [
  {
   "cell_type": "markdown",
   "id": "42d3bddb",
   "metadata": {},
   "source": [
    "# Retrieving Model Spectra\n",
    "\n",
    "Often, we want to know the spectrum of light emanating from the surface of a star, a planet, or some other object. For `chromatic`, we added a wrapper around the Husser et al. (2013) [library of high-resolution stellar spectra](http://phoenix.astro.physik.uni-goettingen.de/) to make it easier to retrieve model spectra at a variety of resolutions. The tools used to achieve this is the `get_phoenix_photons` function, as demonstrated below."
   ]
  },
  {
   "cell_type": "markdown",
   "id": "2f9efa1f",
   "metadata": {},
   "source": [
    "Let's imagine you want to plot the optical and near-infrared spectrum of a star with a particular [effective temperature](https://en.wikipedia.org/wiki/Effective_temperature), [surface gravity](https://en.wikipedia.org/wiki/Surface_gravity), and [metallicity](https://en.wikipedia.org/wiki/Metallicity). The following commands show how to use `chromatic` to retrieve the model flux of a star like the Sun, making use of the `get_phoenix_photons` function."
   ]
  },
  {
   "cell_type": "code",
   "execution_count": null,
   "id": "fd433749",
   "metadata": {},
   "outputs": [],
   "source": [
    "from chromatic import get_phoenix_photons, get_planck_photons, version\n",
    "import matplotlib.pyplot as plt, numpy as np\n",
    "import astropy.units as u, astropy.constants as con"
   ]
  },
  {
   "cell_type": "code",
   "execution_count": null,
   "id": "196c71f8",
   "metadata": {},
   "outputs": [],
   "source": [
    "version()"
   ]
  },
  {
   "cell_type": "code",
   "execution_count": null,
   "id": "078c6656",
   "metadata": {},
   "outputs": [],
   "source": [
    "# retrieve a wavelength array and a flux array\n",
    "wavelength, surface_flux = get_phoenix_photons(\n",
    "    temperature=5780, logg=4.43, metallicity=0.0, R=1000\n",
    ")\n",
    "\n",
    "# plot the wavelength array\n",
    "plt.figure(figsize=(8, 3), dpi=300)\n",
    "plt.plot(wavelength, surface_flux, label=\"PHOENIX model\")\n",
    "\n",
    "# for comparison, plot a Planck spectrum\n",
    "w_planck, f_planck = get_planck_photons(temperature=5780)\n",
    "plt.plot(w_planck, f_planck, label=\"Planck function\")\n",
    "\n",
    "# add some labels\n",
    "plt.xlabel(f\"Wavelength ({wavelength.unit.to_string('latex_inline')})\")\n",
    "plt.ylabel(f\"Surface Flux ({surface_flux.unit.to_string('latex_inline')})\")\n",
    "plt.legend(frameon=False);"
   ]
  },
  {
   "cell_type": "markdown",
   "id": "9d36d062",
   "metadata": {},
   "source": [
    "The solar spectrum looks approximately like the Planck thermal emission spectrum, but with some absorption features and redistribution of flux due radiative transfer through the stellar atmosphere. "
   ]
  },
  {
   "cell_type": "markdown",
   "id": "a5b6e2ef",
   "metadata": {},
   "source": [
    "### How do we set the spectral resolution? \n",
    "\n",
    "If you specify a spectral resolution $R = \\lambda/d\\lambda$, the full extent of the model wavelength range (approximately $0.05-5 \\mu m$) will be returned, binned to that resolution. Different resolutions are stored in different files that are loaded as needed. Your code will run a lot faster if you load the lowest resolution that will meet your needs. For a single metallicity, files range from a very manageable 400 kilobytes for $R=10$ to an annoyingling large 3 gigabytes for $R=100000$. Trying to calculate an extremely high resolution model pre-existing metallicity grid point will try to load in all metallicities, which can cause slow-downs because of memory issues. "
   ]
  },
  {
   "cell_type": "code",
   "execution_count": null,
   "id": "e176ca45",
   "metadata": {},
   "outputs": [],
   "source": [
    "plt.figure(figsize=(8, 3), dpi=300)\n",
    "for R in [10000, 1000, 100, 10]:\n",
    "    w, f = get_phoenix_photons(R=R)\n",
    "    plt.plot(w, f, alpha=0.5, label=f\"R={R}\")\n",
    "plt.xlabel(f\"Wavelength ({wavelength.unit.to_string('latex_inline')})\")\n",
    "plt.ylabel(f\"Surface Flux ({surface_flux.unit.to_string('latex_inline')})\")\n",
    "plt.legend(frameon=False);"
   ]
  },
  {
   "cell_type": "markdown",
   "id": "73121d28",
   "metadata": {},
   "source": [
    "### Should we specify custom wavelengths? \n",
    "\n",
    "For many applications, you may need to generate lots of spectra over a very narrow wavelength range. In those cases, it'd be inefficient to interpolate the a very large spectral range only to trim down to a few specific wavelengths. If you know exactly the wavelengths you want and you're generating more than one spectrum on the same wavelength grid, your code will run likely faster if you specify the wavelengths you need directly to `get_phoenix_photons`, as shown below."
   ]
  },
  {
   "cell_type": "code",
   "execution_count": null,
   "id": "dd697e06",
   "metadata": {},
   "outputs": [],
   "source": [
    "plt.figure(figsize=(8, 3), dpi=300)\n",
    "w, f = get_phoenix_photons(wavelength=np.linspace(0.4, 0.7, 1000) * u.micron)\n",
    "plt.plot(w, f)\n",
    "plt.xlabel(f\"Wavelength ({wavelength.unit.to_string('latex_inline')})\")\n",
    "plt.ylabel(f\"Surface Flux ({surface_flux.unit.to_string('latex_inline')})\");"
   ]
  },
  {
   "cell_type": "markdown",
   "id": "9864dc24",
   "metadata": {},
   "source": [
    "### What are the units? \n",
    "The variables `wavelength` and `surface_flux` returned by `get_phoenix_photons` have [astropy units](https://docs.astropy.org/en/stable/units/index.html) attached to them, to reduce the risk of unit mistakes in subsequent calculations."
   ]
  },
  {
   "cell_type": "code",
   "execution_count": null,
   "id": "5fd946af",
   "metadata": {},
   "outputs": [],
   "source": [
    "wavelength.unit"
   ]
  },
  {
   "cell_type": "code",
   "execution_count": null,
   "id": "1421c869",
   "metadata": {},
   "outputs": [],
   "source": [
    "surface_flux.unit"
   ]
  },
  {
   "cell_type": "markdown",
   "id": "a1c16e10",
   "metadata": {},
   "source": [
    "Because `chromatic` primarily uses these model spectra for photon-noise calculations, the flux is provided in photons/second rather than energy units like joules/second (= watts) or ergs/second. "
   ]
  },
  {
   "cell_type": "markdown",
   "id": "59832734",
   "metadata": {},
   "source": [
    "### What does \"surface flux\" mean? \n",
    "In general, you could characterize the brightness of a star at lots of different locations: the surface of the star, at a fixed orbital distance from the star, or at some even larger astronomical distance from the star. The flux returned by `get_phoenix_photons` is a surface flux, in the sense that it represents the rate of photons flowing out of a star's photosphere per unit area. To show how this might be used, the following example calculation integrates a model spectrum to estimate the bolometric luminosity of the Sun. "
   ]
  },
  {
   "cell_type": "code",
   "execution_count": null,
   "id": "160f9f30",
   "metadata": {},
   "outputs": [],
   "source": [
    "# retrieve a wavelength array and a flux array\n",
    "wavelength, surface_flux = get_phoenix_photons(\n",
    "    temperature=5780, logg=4.43, metallicity=0.0, R=1000\n",
    ")\n",
    "\n",
    "# calculate the energy per photon for each wavelength [J/photon]\n",
    "energy_per_photon = (con.h * con.c / wavelength) / u.photon\n",
    "\n",
    "# calculate the surface flux in power units [W/(m**2 nm)]\n",
    "surface_flux_power = energy_per_photon * surface_flux\n",
    "\n",
    "# integrate over wavelength to get bolometric surface flux [W/m**2]\n",
    "ok = np.isfinite(surface_flux_power)\n",
    "bolometric_surface_flux_power = np.trapz(surface_flux_power[ok], wavelength[ok])\n",
    "\n",
    "# calculate the surface area of the Sun [m**2]\n",
    "surface_area = 4 * np.pi * (1 * u.Rsun) ** 2\n",
    "\n",
    "# calculate the luminosity as bolometric flux * area\n",
    "luminosity = bolometric_surface_flux_power * surface_area\n",
    "luminosity.to(u.Lsun)"
   ]
  },
  {
   "cell_type": "markdown",
   "id": "163803e2",
   "metadata": {},
   "source": [
    "To review, we converted from photons to energy, integrated over wavelength, and multiplied by the surface area of the Sun. Our estimate for the luminosity of the Sun came out pretty close, especially considering we didn't actually integrate the wavelengths from $\\lambda=0$ to $\\lambda=\\infty$."
   ]
  },
  {
   "cell_type": "markdown",
   "id": "e3306620",
   "metadata": {},
   "source": [
    "### What kind of interpolation is happening? \n",
    "The PHOENIX model grid provides spectra at fixed intervals of temperature $T_{\\rm eff}$ (100-200K), surface gravity $\\log{g}$ (0.5 dex), and metallicity $[\\mathrm{Fe/H}]$ (0.5 dex). If you request a model that exists in that grid, it will be returned exactly. If you request a model somewhere between these grid points, it will be interpolated from the closest available grid points. The interpolation is linear in the quantities $\\log T_{\\rm eff}$, $\\log{g}$, and $[\\mathrm{Fe/H}]$. We interpolate in the logarithm of temperature because per-wavelength fluxes tend to grow $\\propto T_{\\rm eff}^{x}$ where $x\\ne 1$."
   ]
  },
  {
   "cell_type": "code",
   "execution_count": null,
   "id": "62d7b1b2",
   "metadata": {
    "scrolled": false
   },
   "outputs": [],
   "source": [
    "fi, ax = plt.subplots(1, 2, figsize=(8, 3), dpi=300, constrained_layout=True)\n",
    "\n",
    "# loop over two different wavelengths\n",
    "for a, i in zip(ax, [10, -10]):\n",
    "\n",
    "    # point to the appropriate plotting axes\n",
    "    plt.sca(a)\n",
    "\n",
    "    # plot flux for the original grid points\n",
    "    grid_temperatures = np.arange(4000, 4400, 100)\n",
    "    grid_fluxes = []\n",
    "    for T in grid_temperatures:\n",
    "        w, f = get_phoenix_photons(temperature=T, logg=4.5)\n",
    "        grid_fluxes.append(f)\n",
    "    plt.plot(grid_temperatures, np.array(grid_fluxes)[:, i], marker=\"o\", label=\"grid\")\n",
    "\n",
    "    # plot flux for interpolated temperatures\n",
    "    interpolated_temperatures = np.arange(4000, 4300, 11)\n",
    "    interpolated_fluxes = []\n",
    "    for T in interpolated_temperatures:\n",
    "        w, f = get_phoenix_photons(temperature=T, logg=4.5)\n",
    "        interpolated_fluxes.append(f)\n",
    "    plt.plot(\n",
    "        interpolated_temperatures,\n",
    "        np.array(interpolated_fluxes)[:, i],\n",
    "        marker=\".\",\n",
    "        label=\"interpolated\",\n",
    "    )\n",
    "\n",
    "    # add some labels\n",
    "    plt.title(f\"$\\lambda$={w[i]:.3f}\")\n",
    "    plt.xlabel(\"Temperature (K)\")\n",
    "plt.sca(ax[0])\n",
    "plt.ylabel(f\"Monochromatic Flux\\n({f.unit.to_string('latex_inline')})\")\n",
    "plt.legend(frameon=False);"
   ]
  },
  {
   "cell_type": "markdown",
   "id": "ba32d461",
   "metadata": {},
   "source": [
    "## Where are the spectra stored? \n",
    "\n",
    "The `get_phoenix_photons` function automatically downloads the files it needs and caches them on your local computer. You can find out where those files are stored and how much space their taking up by interacting with the `phoenix_library` object (of which `get_phoenix_photons` is a method)."
   ]
  },
  {
   "cell_type": "code",
   "execution_count": null,
   "id": "28877da9",
   "metadata": {},
   "outputs": [],
   "source": [
    "from chromatic import phoenix_library"
   ]
  },
  {
   "cell_type": "code",
   "execution_count": null,
   "id": "7a06eb1c",
   "metadata": {},
   "outputs": [],
   "source": [
    "phoenix_library.get_cache_dir()"
   ]
  },
  {
   "cell_type": "code",
   "execution_count": null,
   "id": "f95f4423",
   "metadata": {},
   "outputs": [],
   "source": [
    "phoenix_library.get_cache_size()"
   ]
  },
  {
   "cell_type": "markdown",
   "id": "97d110c0",
   "metadata": {},
   "source": [
    "## How long do model retrievals take? \n",
    "\n",
    "We put some effort into speeding up the process of retrieving multiple different spectral models on similar wavelength grids. The following plot shows approximately how long different steps take on a 2020 MacBook Pro with M1 chip.\n"
   ]
  },
  {
   "cell_type": "code",
   "execution_count": null,
   "id": "636757f2",
   "metadata": {},
   "outputs": [],
   "source": [
    "phoenix_library.plot_time_required();"
   ]
  }
 ],
 "metadata": {
  "kernelspec": {
   "display_name": "Python 3 (ipykernel)",
   "language": "python",
   "name": "python3"
  },
  "language_info": {
   "codemirror_mode": {
    "name": "ipython",
    "version": 3
   },
   "file_extension": ".py",
   "mimetype": "text/x-python",
   "name": "python",
   "nbconvert_exporter": "python",
   "pygments_lexer": "ipython3",
   "version": "3.10.4"
  }
 },
 "nbformat": 4,
 "nbformat_minor": 5
}
