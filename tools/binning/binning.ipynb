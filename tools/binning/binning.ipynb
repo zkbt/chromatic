{
 "cells": [
  {
   "cell_type": "markdown",
   "id": "a2a36507",
   "metadata": {},
   "source": [
    "# Binning Data to a New Grid\n",
    "\n",
    "Often we have some `y` values the correspond to a particular grid of `x` values, and we want to resample them onto a different grid of `x` values. Interpolation is one way to do this, but it won't necessarily provide reasonable averages over wiggly features. There are lots of different features we might hope for in a resampling routine, but one common one is that we'd like get the same answer when integrating between two `x` limits, whether we're using the original or the resampled grid of quantities. One way to ensure such integrals are conserved is to calculate the cumulative distribution function (= the integral up to a particular limit) of the original arrays, interpolate onto the new grid, and differentiate; [Diamond-Lowe et al. 2020](https://ui.adsabs.harvard.edu/abs/2020AJ....160...27D/abstract) provides a literature example of this algorthim being used for exoplanet transmission spectrum observations. \n",
    "\n",
    "For `chromatic`, the tools used to achieve this are the `bintogrid` and `bintoR` functions, which we demonstrate below."
   ]
  },
  {
   "cell_type": "code",
   "execution_count": null,
   "id": "1d6021a6",
   "metadata": {},
   "outputs": [],
   "source": [
    "from chromatic import bintogrid, bintoR, version\n",
    "import numpy as np, matplotlib.pyplot as plt\n",
    "\n",
    "plt.matplotlib.rcParams[\"figure.figsize\"] = (8, 3)\n",
    "plt.matplotlib.rcParams[\"figure.dpi\"] = 300"
   ]
  },
  {
   "cell_type": "code",
   "execution_count": null,
   "id": "cb174f3a",
   "metadata": {},
   "outputs": [],
   "source": [
    "version()"
   ]
  },
  {
   "cell_type": "markdown",
   "id": "6c067123",
   "metadata": {},
   "source": [
    "## How do we bin some input arrays?"
   ]
  },
  {
   "cell_type": "markdown",
   "id": "ea5b7723",
   "metadata": {},
   "source": [
    "Let's create a fake input dataset with an input grid that is uniformly spaced in `x`. "
   ]
  },
  {
   "cell_type": "code",
   "execution_count": null,
   "id": "b87037c8",
   "metadata": {},
   "outputs": [],
   "source": [
    "N = 100\n",
    "x = np.linspace(1, 5, N)\n",
    "y = x**2"
   ]
  },
  {
   "cell_type": "markdown",
   "id": "84299733",
   "metadata": {},
   "source": [
    "Then, let's use `bintogrid` to bin these input arrays onto a new grid with wider spacing. The results of this function are a dictionary that contain:\n",
    "- `x` = the center of the output grid\n",
    "- `y` = the resampled value on the output grid\n",
    "- `x_edge_lower` = the lower edges of the output grid\n",
    "- `x_edge_upper` = the upper edges of the output grid\n",
    "- `N_unbinned/N_binned` = the approximate number of input bins that contributed to each output bin"
   ]
  },
  {
   "cell_type": "code",
   "execution_count": null,
   "id": "41130307",
   "metadata": {},
   "outputs": [],
   "source": [
    "binned = bintogrid(x, y, dx=0.5)\n",
    "list(binned.keys())"
   ]
  },
  {
   "cell_type": "markdown",
   "id": "aaaec85d",
   "metadata": {},
   "source": [
    "Let's compare the results on a plot. The resampled values line up very neatly with the "
   ]
  },
  {
   "cell_type": "code",
   "execution_count": null,
   "id": "41a714f5",
   "metadata": {},
   "outputs": [],
   "source": [
    "plt.scatter(x, y, alpha=0.5, label=\"input\")\n",
    "plt.scatter(binned[\"x\"], binned[\"y\"], s=100, alpha=0.5, label=\"output\")\n",
    "plt.xlabel(\"x\")\n",
    "plt.ylabel(\"y\")\n",
    "plt.legend(frameon=False);"
   ]
  },
  {
   "cell_type": "markdown",
   "id": "953cf625",
   "metadata": {},
   "source": [
    "This code should work similarly even if the input arrays are non-uniform in `x`, which can be a nice way to arrange a heterogeneous dataset into something easier to work with."
   ]
  },
  {
   "cell_type": "code",
   "execution_count": null,
   "id": "057ce116",
   "metadata": {},
   "outputs": [],
   "source": [
    "x = np.sort(np.random.uniform(1, 5, N))\n",
    "y = x**2\n",
    "binned = bintogrid(x, y, dx=0.5)\n",
    "plt.scatter(x, y, alpha=0.5, label=\"input\")\n",
    "plt.scatter(binned[\"x\"], binned[\"y\"], s=100, alpha=0.5, label=\"output\")\n",
    "plt.xlabel(\"x\")\n",
    "plt.ylabel(\"y\")\n",
    "plt.legend(frameon=False);"
   ]
  },
  {
   "cell_type": "markdown",
   "id": "600e3412",
   "metadata": {},
   "source": [
    "The `bintoR` function is a wrapper around `bintogrid` that provides a quick way to bin onto logarithmic grid. In spectroscopy, it's common to want to work with wavelengths $\\lambda$ that are spaced according to a constant value of $R = \\lambda/\\Delta \\lambda = 1 / \\Delta [\\ln \\lambda]$. This quantity $R$ is often called the [spectral resolution](https://en.wikipedia.org/wiki/Spectral_resolution). "
   ]
  },
  {
   "cell_type": "code",
   "execution_count": null,
   "id": "672416ba",
   "metadata": {},
   "outputs": [],
   "source": [
    "binned = bintoR(x, y, R=10)\n",
    "plt.scatter(x, y, alpha=0.5, label=\"input\")\n",
    "plt.scatter(binned[\"x\"], binned[\"y\"], s=100, alpha=0.5, label=\"output\")\n",
    "plt.xlabel(\"x\")\n",
    "plt.ylabel(\"y\")\n",
    "plt.legend(frameon=False);"
   ]
  },
  {
   "cell_type": "markdown",
   "id": "377520fa",
   "metadata": {},
   "source": [
    "This may seem like a weird way to define a new output grid, but its usefulness becomes apparent when we plot on logarithmic axes. It's uniform in log space!"
   ]
  },
  {
   "cell_type": "code",
   "execution_count": null,
   "id": "69d08ab0",
   "metadata": {},
   "outputs": [],
   "source": [
    "plt.scatter(x, y, alpha=0.5, label=\"input\")\n",
    "plt.scatter(binned[\"x\"], binned[\"y\"], s=100, alpha=0.5, label=\"output\")\n",
    "plt.xlabel(\"x\")\n",
    "plt.ylabel(\"y\")\n",
    "plt.legend(frameon=False)\n",
    "plt.xscale(\"log\");"
   ]
  },
  {
   "cell_type": "markdown",
   "id": "863870dd",
   "metadata": {},
   "source": [
    "## How do we bin with uncertainties? "
   ]
  },
  {
   "cell_type": "markdown",
   "id": "dd67049e",
   "metadata": {},
   "source": [
    "For any real measurements, there are probably uncertainties associated with them. Both `bintogrid` and `bintoR` will try their best to propagate uncertainties by using [inverse-variance weighting](https://en.wikipedia.org/wiki/Inverse-variance_weighting) and its maximum likelihood estimate for the binned uncertainty."
   ]
  },
  {
   "cell_type": "markdown",
   "id": "b3255062",
   "metadata": {},
   "source": [
    "Let's look at a similar example as before, but with some uncertainties associated with each input `y` value. "
   ]
  },
  {
   "cell_type": "code",
   "execution_count": null,
   "id": "bff88af6",
   "metadata": {},
   "outputs": [],
   "source": [
    "x = np.linspace(1, 5, N)\n",
    "uncertainty = np.ones_like(x) * 5\n",
    "y = np.random.normal(x**2, uncertainty)"
   ]
  },
  {
   "cell_type": "markdown",
   "id": "a33d369a",
   "metadata": {},
   "source": [
    "Let's resample it to a new grid, providing the known uncertainties on the original points. Notice that the result now also includes an `uncertainty` key."
   ]
  },
  {
   "cell_type": "code",
   "execution_count": null,
   "id": "b9d46fe6",
   "metadata": {},
   "outputs": [],
   "source": [
    "binned = bintogrid(x, y, uncertainty, dx=0.5)\n",
    "list(binned.keys())"
   ]
  },
  {
   "cell_type": "markdown",
   "id": "a1491a8f",
   "metadata": {},
   "source": [
    "When we plot the input and output values, we can see that the typical output uncertainties are smaller than the typical input uncertainties, because we've effectively averaged together a few data points and therefore decreased the uncertainty for the new values. "
   ]
  },
  {
   "cell_type": "code",
   "execution_count": null,
   "id": "d6d45285",
   "metadata": {},
   "outputs": [],
   "source": [
    "kw = dict(linewidth=0, elinewidth=1, marker=\"o\", alpha=0.5, markeredgecolor=\"none\")\n",
    "plt.errorbar(x, y, uncertainty, label=\"input\", **kw)\n",
    "plt.errorbar(\n",
    "    binned[\"x\"], binned[\"y\"], binned[\"uncertainty\"], label=\"output\", markersize=10, **kw\n",
    ")\n",
    "plt.xlabel(\"x\")\n",
    "plt.ylabel(\"y\")\n",
    "plt.legend(frameon=False);"
   ]
  },
  {
   "cell_type": "markdown",
   "id": "a281ab48",
   "metadata": {},
   "source": [
    "When we bin onto a logarithmic grid with `bintoR`, we can see that the uncertainties typically smaller for the higher values of `x`, where more input points are getting averaged together to make each output point."
   ]
  },
  {
   "cell_type": "code",
   "execution_count": null,
   "id": "d359d800",
   "metadata": {},
   "outputs": [],
   "source": [
    "binned = bintoR(x, y, uncertainty, R=10)\n",
    "plt.errorbar(x, y, uncertainty, label=\"input\", **kw)\n",
    "plt.errorbar(\n",
    "    binned[\"x\"], binned[\"y\"], binned[\"uncertainty\"], label=\"output\", markersize=10, **kw\n",
    ")\n",
    "plt.xlabel(\"x\")\n",
    "plt.ylabel(\"y\")\n",
    "plt.legend(frameon=False)\n",
    "plt.xscale(\"log\");"
   ]
  },
  {
   "cell_type": "markdown",
   "id": "df0c7d7d",
   "metadata": {},
   "source": [
    "## How do we customize the output grid? \n",
    "\n",
    "There are a few different options you can use to specify the exact output grid you would like. \n",
    "\n",
    "For `bintogrid`, the options are:\n",
    "\n",
    "- `nx` = the number of adjacent inputs points that should be binned together to create the output grid (for example, \"bin every 3 points together\") \n",
    "- `dx` = the spacing for a linearly-uniform output grid \n",
    "- `newx` = a custom output grid, referring to the centers of the new bins\n",
    "- `newx_edges`= a custom output grid, referring to the edges of the new bins. The left and right edges of the bins will be, respectively, `newx_edges[:-1]` and `newx_edges[1:]`, so the size of the output array will be `len(newx_edges) - 1`\n",
    "\n",
    "For `bintoR`, the options are:\n",
    "- `R` = the spectral resolution R=x/dx for a logarithmically-uniform output grid\n",
    "- `xlim` = a two-element list indicating the min and max values of x for the new logarithmic output grid. If not supplied, this will center the first output bin on the first value of `x`"
   ]
  }
 ],
 "metadata": {
  "kernelspec": {
   "display_name": "Python 3 (ipykernel)",
   "language": "python",
   "name": "python3"
  },
  "language_info": {
   "codemirror_mode": {
    "name": "ipython",
    "version": 3
   },
   "file_extension": ".py",
   "mimetype": "text/x-python",
   "name": "python",
   "nbconvert_exporter": "python",
   "pygments_lexer": "ipython3",
   "version": "3.10.4"
  }
 },
 "nbformat": 4,
 "nbformat_minor": 5
}
