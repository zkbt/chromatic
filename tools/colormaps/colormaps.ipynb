{
 "cells": [
  {
   "cell_type": "markdown",
   "id": "42179ce5",
   "metadata": {},
   "source": [
    "# Creating Custom Colormaps\n",
    "\n",
    "Colormaps provide a way to translate from numbers to colors. The `matplotlib` [colormaps](https://matplotlib.org/stable/tutorials/colors/colormaps.html) are lovely, but sometimes we just want to say \"I'd like a colormap that goes from this color to that color.\" The `one2another` colormap generator does just that."
   ]
  },
  {
   "cell_type": "code",
   "execution_count": null,
   "id": "39a565c9",
   "metadata": {},
   "outputs": [],
   "source": [
    "from chromatic import one2another, version"
   ]
  },
  {
   "cell_type": "code",
   "execution_count": null,
   "id": "a695119f",
   "metadata": {},
   "outputs": [],
   "source": [
    "version()"
   ]
  },
  {
   "cell_type": "markdown",
   "id": "f06ba943",
   "metadata": {},
   "source": [
    "## How do we make a new colormap? \n",
    "\n",
    "All we need to specify is the color at the bottom and the color at the top. If we want to get really fancy, we can specify different `alpha` (= opacity) values for either of these limits."
   ]
  },
  {
   "cell_type": "code",
   "execution_count": null,
   "id": "1643a4d9",
   "metadata": {},
   "outputs": [],
   "source": [
    "one2another(\"orchid\", \"black\")"
   ]
  },
  {
   "cell_type": "code",
   "execution_count": null,
   "id": "6926732c",
   "metadata": {},
   "outputs": [],
   "source": [
    "one2another(\"black\", \"orchid\")"
   ]
  },
  {
   "cell_type": "code",
   "execution_count": null,
   "id": "41ded69d",
   "metadata": {},
   "outputs": [],
   "source": [
    "one2another(bottom=\"orchid\", top=\"orchid\", alpha_bottom=0)"
   ]
  },
  {
   "cell_type": "markdown",
   "id": "606c2d57",
   "metadata": {},
   "source": [
    "That's it! You can use these colormaps anywhere you'd set `cmap=` in a `matplotlib` function."
   ]
  },
  {
   "cell_type": "code",
   "execution_count": null,
   "id": "2b50f6c0",
   "metadata": {},
   "outputs": [],
   "source": [
    "import numpy as np, matplotlib.pyplot as plt\n",
    "\n",
    "# make a custom cmap\n",
    "my_fancy_cmap = one2another(\"orchid\", \"black\")\n",
    "\n",
    "# make some fake data\n",
    "x, y = np.random.uniform(-1, 1, [2, 1000])\n",
    "z = np.random.normal(0, 1, [10, 10])\n",
    "\n",
    "# use the cmap\n",
    "fi, ax = plt.subplots(1, 2, constrained_layout=True)\n",
    "ax[0].scatter(x, y, c=x**2 + y**2, cmap=my_fancy_cmap)\n",
    "ax[0].axis(\"scaled\")\n",
    "ax[1].imshow(z, cmap=my_fancy_cmap)\n",
    "ax[1].axis(\"scaled\");"
   ]
  }
 ],
 "metadata": {
  "kernelspec": {
   "display_name": "Python 3 (ipykernel)",
   "language": "python",
   "name": "python3"
  },
  "language_info": {
   "codemirror_mode": {
    "name": "ipython",
    "version": 3
   },
   "file_extension": ".py",
   "mimetype": "text/x-python",
   "name": "python",
   "nbconvert_exporter": "python",
   "pygments_lexer": "ipython3",
   "version": "3.10.4"
  }
 },
 "nbformat": 4,
 "nbformat_minor": 5
}
