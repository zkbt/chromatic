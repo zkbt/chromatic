{
 "cells": [
  {
   "cell_type": "markdown",
   "metadata": {},
   "source": [
    "# 🌈 Actions"
   ]
  },
  {
   "cell_type": "markdown",
   "metadata": {},
   "source": [
    "There are number of methods or actions that any `Rainbow` (=🌈) object can do. By learning the vocabulary of just a few of these methods, you can build up some fairly complicated stories for working with data. In general, most of these actions return a 🌈 object that has been modified in one way or another, so you can keep adding actions after actions after actions. To show how these work, we'll create some simulated 🌈 objects and try a few:"
   ]
  },
  {
   "cell_type": "code",
   "execution_count": null,
   "metadata": {},
   "outputs": [],
   "source": [
    "from chromatic import SimulatedRainbow, version\n",
    "from chromatic import plt, np, u\n",
    "\n",
    "plt.matplotlib.rcParams[\"figure.figsize\"] = (8, 3)"
   ]
  },
  {
   "cell_type": "code",
   "execution_count": null,
   "metadata": {},
   "outputs": [],
   "source": [
    "version()"
   ]
  },
  {
   "cell_type": "markdown",
   "metadata": {},
   "source": [
    "By itself, the `SimulatedRainbow()` object just creates an empty 🌈 with a particular wavelength and time grid. However, we can use a suite of actions that inject signals and/or noise sources to build of semi-realistic simulated datasets."
   ]
  },
  {
   "cell_type": "code",
   "execution_count": null,
   "metadata": {},
   "outputs": [],
   "source": [
    "empty = SimulatedRainbow(wlim=[0.1, 5] * u.micron, tlim=[-0.1, 0.1] * u.day)"
   ]
  },
  {
   "cell_type": "markdown",
   "metadata": {},
   "source": [
    "## `🌈.inject_transit()`"
   ]
  },
  {
   "cell_type": "markdown",
   "metadata": {},
   "source": [
    "It's useful to have a way to inject a simulated transit of an imaginary exoplanet. If you're trying out some new fitting algorithm, you can inject a transit with known properties and make sure you recover it. "
   ]
  },
  {
   "cell_type": "code",
   "execution_count": null,
   "metadata": {},
   "outputs": [],
   "source": [
    "with_transit = empty.inject_transit()\n",
    "with_transit.paint();"
   ]
  },
  {
   "cell_type": "markdown",
   "metadata": {},
   "source": [
    "You can customize some of the model parameters. See the docstring for more details, but the most basic would be to provide an array of planet radii corresponding to each wavelength."
   ]
  },
  {
   "cell_type": "code",
   "execution_count": null,
   "metadata": {},
   "outputs": [],
   "source": [
    "with_transit = empty.inject_transit(planet_radius=np.linspace(0.2, 0.1, empty.nwave))\n",
    "with_transit.paint();"
   ]
  },
  {
   "cell_type": "markdown",
   "metadata": {},
   "source": [
    "The parameters used for the transit model will be stored in `.metadata['injected_transit_parameters']`."
   ]
  },
  {
   "cell_type": "markdown",
   "metadata": {},
   "source": [
    "## `🌈.inject_spectrum()`\n",
    "\n",
    "This function injects a static stellar spectrum into all the fluxes for a 🌈, using the Husser et al. (2013) [PHOENIX model grid](http://phoenix.astro.physik.uni-goettingen.de/). It will try to automatically download all the files you need, when you need them."
   ]
  },
  {
   "cell_type": "code",
   "execution_count": null,
   "metadata": {},
   "outputs": [],
   "source": [
    "with_spectrum = with_transit.inject_spectrum(\n",
    "    temperature=5800 * u.K, logg=4.43, metallicity=0.0\n",
    ")\n",
    "with_spectrum.paint();"
   ]
  },
  {
   "cell_type": "markdown",
   "metadata": {},
   "source": [
    "## `🌈.inject_systematics()`"
   ]
  },
  {
   "cell_type": "markdown",
   "metadata": {},
   "source": [
    "This function injects imaginary systematic noise sources into a 🌈. High-precision observations of transiting exoplanets often encounter systematics that are correlated in complicated ways in time or wavelength or with various hidden quantities. This function injects a linear combination of real or imagined time-like, wave-like, and/or flux-like quantities (see its docstring for details)."
   ]
  },
  {
   "cell_type": "code",
   "execution_count": null,
   "metadata": {},
   "outputs": [],
   "source": [
    "with_systematics = with_spectrum.inject_systematics()\n",
    "with_systematics.normalize().paint();"
   ]
  },
  {
   "cell_type": "markdown",
   "metadata": {},
   "source": [
    "The parameters and equations used for the systematics model will be stored in `.metadata['systematics_components']` and `.metadata['systematics_equation']`. The independent variables needed for these equations are stored in the 🌈, so it should be possible to perfectly recreate the systematic model."
   ]
  },
  {
   "cell_type": "markdown",
   "metadata": {},
   "source": [
    "## `🌈.inject_noise()`"
   ]
  },
  {
   "cell_type": "markdown",
   "metadata": {},
   "source": [
    "We can inject noise, for example to simulate the observing the same system at a greater distance or with a smaller telescope. One way to set the noise level is with the `signal_to_noise` keyword argument."
   ]
  },
  {
   "cell_type": "code",
   "execution_count": null,
   "metadata": {},
   "outputs": [],
   "source": [
    "with_noise = with_systematics.inject_noise(signal_to_noise=100)\n",
    "with_noise.normalize().paint();"
   ]
  },
  {
   "cell_type": "markdown",
   "metadata": {},
   "source": [
    "Another way to set the noise level is to specify a typical number of photons expected per bin with the `number_of_photons` keyword argument."
   ]
  },
  {
   "cell_type": "code",
   "execution_count": null,
   "metadata": {},
   "outputs": [],
   "source": [
    "with_noise = with_systematics.normalize().inject_noise(number_of_photons=1e4)\n",
    "with_noise.paint();"
   ]
  },
  {
   "cell_type": "markdown",
   "metadata": {},
   "source": [
    "Since each 🌈 action returns a 🌈, multiple actions can be linked togther into a single command."
   ]
  },
  {
   "cell_type": "code",
   "execution_count": null,
   "metadata": {},
   "outputs": [],
   "source": [
    "r = (\n",
    "    SimulatedRainbow()\n",
    "    .inject_transit()\n",
    "    .inject_spectrum()\n",
    "    .inject_systematics()\n",
    "    .inject_noise()\n",
    "    .normalize()\n",
    ")"
   ]
  },
  {
   "cell_type": "markdown",
   "metadata": {},
   "source": [
    "## `🌈.bin()`\n",
    "While we should generally try to avoid fitting to binned data when possible, there will often be times where it's helpful to bin to particular grid of wavelengths and/or times. You can do this using the `.bin()` function, which we'll apply here to the simulated 🌈 we just created."
   ]
  },
  {
   "cell_type": "code",
   "execution_count": null,
   "metadata": {},
   "outputs": [],
   "source": [
    "def summarize(x):\n",
    "    print(\n",
    "        f\"\"\"\n",
    "    {x} is a {type(x).__name__}.\n",
    "    It has a {x.nwave} wavelengths and {x.ntime} times. \n",
    "\n",
    "    Its 5 first wavelengths:{np.round(x.wavelength[:5], 2)}\n",
    "    Its 5 first times:{np.round(x.time[:5].to('hour'), 2)}\n",
    "    \"\"\"\n",
    "    )"
   ]
  },
  {
   "cell_type": "code",
   "execution_count": null,
   "metadata": {},
   "outputs": [],
   "source": [
    "summarize(r)"
   ]
  },
  {
   "cell_type": "markdown",
   "metadata": {},
   "source": [
    "To bin in **wavelength**, it can take the following inputs:\n",
    "- `dw=` to bin in wavelength to a particular $d\\lambda$ width. This will create a linear grid in wavelength.\n",
    "- `R=` to bin in wavelength to particular $R = \\lambda/d\\lambda$. This will create a logarithmic grid in wavelength.\n",
    "- `wavelength=` to bin to any custom wavelength grid specified by its centers; the edges will be guessed from the spacing between these edges. \n",
    "- `wavelength_edges=` to bin to any custom wavelength grid specified by its edges; the centers will be guessed as the midpoints between these edges. (The number of binned wavelengths will be 1 fewer than the number of edges.)\n",
    "- `nwavelengths=` to bin by a fixed number of adjacent wavelengths (as in \"bin every N wavelengths together\"), starting from the first wavelength. "
   ]
  },
  {
   "cell_type": "code",
   "execution_count": null,
   "metadata": {},
   "outputs": [],
   "source": [
    "b = r.bin(dw=0.5 * u.micron)\n",
    "summarize(b)"
   ]
  },
  {
   "cell_type": "code",
   "execution_count": null,
   "metadata": {},
   "outputs": [],
   "source": [
    "b = r.bin(R=10)\n",
    "summarize(b)"
   ]
  },
  {
   "cell_type": "code",
   "execution_count": null,
   "metadata": {},
   "outputs": [],
   "source": [
    "b = r.bin(wavelength=np.linspace(1, 2, 6) * u.micron)\n",
    "summarize(b)"
   ]
  },
  {
   "cell_type": "code",
   "execution_count": null,
   "metadata": {},
   "outputs": [],
   "source": [
    "b = r.bin(wavelength_edges=np.linspace(1, 2, 6) * u.micron)\n",
    "summarize(b)"
   ]
  },
  {
   "cell_type": "code",
   "execution_count": null,
   "metadata": {},
   "outputs": [],
   "source": [
    "b = r.bin(nwavelengths=10)\n",
    "summarize(b)"
   ]
  },
  {
   "cell_type": "markdown",
   "metadata": {},
   "source": [
    "To bin in **time**, it can take the following inputs:\n",
    "- `dt=` to bin in time to a particular $dt$ width. This will create a linear grid in time.\n",
    "- `time=` to bin to any custom time grid specified by its centers; the edges will be guessed from the spacing between these edges. \n",
    "- `time_edges=` to bin to any custom time grid specified by its edges; the centers will be guessed as the midpoints between these edges. (The number of binned times will be 1 fewer than the number of edges.)\n",
    "- `ntimes=` to bin by a fixed number of adjacent times (as in \"bin every N times together\"), starting from the first time. "
   ]
  },
  {
   "cell_type": "code",
   "execution_count": null,
   "metadata": {},
   "outputs": [],
   "source": [
    "b = r.bin(dt=0.25 * u.hour)\n",
    "summarize(b)"
   ]
  },
  {
   "cell_type": "code",
   "execution_count": null,
   "metadata": {},
   "outputs": [],
   "source": [
    "b = r.bin(time=np.linspace(-1, 1, 6) * u.hour)\n",
    "summarize(b)"
   ]
  },
  {
   "cell_type": "code",
   "execution_count": null,
   "metadata": {},
   "outputs": [],
   "source": [
    "b = r.bin(time_edges=np.linspace(-1, 1, 6) * u.hour)\n",
    "summarize(b)"
   ]
  },
  {
   "cell_type": "code",
   "execution_count": null,
   "metadata": {},
   "outputs": [],
   "source": [
    "b = r.bin(ntimes=10)\n",
    "summarize(b)"
   ]
  },
  {
   "cell_type": "markdown",
   "metadata": {},
   "source": [
    "You can combine to bin in both wavelength and time in the same step."
   ]
  },
  {
   "cell_type": "code",
   "execution_count": null,
   "metadata": {},
   "outputs": [],
   "source": [
    "b = r.bin(dw=100 * u.nm, dt=10 * u.minute)\n",
    "summarize(b)"
   ]
  },
  {
   "cell_type": "code",
   "execution_count": null,
   "metadata": {},
   "outputs": [],
   "source": [
    "fi, ax = plt.subplots(1, 2, sharex=True, figsize=(8, 3), constrained_layout=True)\n",
    "r.paint(ax=ax[0], vmin=0.98, vmax=1.02)\n",
    "plt.title(\"Unbinned\")\n",
    "plt.xlabel(\"\")\n",
    "b.paint(ax=ax[1], vmin=0.98, vmax=1.02)\n",
    "plt.title(\"Binned\");"
   ]
  },
  {
   "cell_type": "markdown",
   "metadata": {},
   "source": [
    "## `🌈.fold()`\n",
    "If our times are in units of BJD, it might be helpful to phase-fold them to a particular transit period and epoch. This function is a small wrapper to convert time to being measured relative to the center of some periodic event (like a transit)."
   ]
  },
  {
   "cell_type": "code",
   "execution_count": null,
   "metadata": {},
   "outputs": [],
   "source": [
    "from astropy.time import Time\n",
    "\n",
    "r.time += Time.now().jd * u.day"
   ]
  },
  {
   "cell_type": "code",
   "execution_count": null,
   "metadata": {},
   "outputs": [],
   "source": [
    "r.time"
   ]
  },
  {
   "cell_type": "code",
   "execution_count": null,
   "metadata": {},
   "outputs": [],
   "source": [
    "r.fold(period=1.234 * u.day, t0=Time.now().jd * u.day).time"
   ]
  },
  {
   "cell_type": "markdown",
   "metadata": {},
   "source": [
    "## `🌈.get_average_lightcurve_as_rainbow()`\n",
    "Binning all wavelengths together produces an uncertainty-weighted average light curve."
   ]
  },
  {
   "cell_type": "code",
   "execution_count": null,
   "metadata": {},
   "outputs": [],
   "source": [
    "r.get_average_lightcurve_as_rainbow()"
   ]
  },
  {
   "cell_type": "markdown",
   "metadata": {},
   "source": [
    "## `🌈.get_average_spectrum_as_rainbow()`\n",
    "Binning all times together produces an uncertainty-weighted average spectrum."
   ]
  },
  {
   "cell_type": "code",
   "execution_count": null,
   "metadata": {},
   "outputs": [],
   "source": [
    "r.get_average_spectrum_as_rainbow()"
   ]
  },
  {
   "cell_type": "markdown",
   "metadata": {},
   "source": [
    "## `🌈.normalize()`\n",
    "If we're starting in units of photons detected at our telescope per wavelength, we may want to normalize a 🌈 by dividing through by its median spectrum. That's effectively all that the `.normalize()` action does. "
   ]
  },
  {
   "cell_type": "code",
   "execution_count": null,
   "metadata": {},
   "outputs": [],
   "source": [
    "r.normalize().paint();"
   ]
  },
  {
   "cell_type": "markdown",
   "metadata": {},
   "source": [
    "In some cases, you might also be curious to divide by the median light curve, to look for small variations away from the overall transit shape. You can customize whether you want to normalize in wavelength or time by suppyling the `axis=` keyword when you call the `.normalize()` function, which defaults to `axis='wavelength'`."
   ]
  },
  {
   "cell_type": "code",
   "execution_count": null,
   "metadata": {},
   "outputs": [],
   "source": [
    "r.normalize(axis=\"time\").paint();"
   ]
  },
  {
   "cell_type": "markdown",
   "metadata": {},
   "source": [
    "(In this case, there were no transit depth or limb-darkening variations injected into the simulated 🌈, so normalizing through time entirely erases any hint of the transit.)"
   ]
  },
  {
   "cell_type": "markdown",
   "metadata": {},
   "source": [
    "## `🌈.remove_trends()`\n",
    "Often we need a quick way to remove smooth trends from a 🌈."
   ]
  },
  {
   "cell_type": "code",
   "execution_count": null,
   "metadata": {},
   "outputs": [],
   "source": [
    "fi, ax = plt.subplots(2, 2, sharey=True, figsize=(8, 5), constrained_layout=True)\n",
    "r.paint(ax=ax[0, 0])\n",
    "plt.title(\"original\")\n",
    "r.remove_trends(method=\"median_filter\", size=(11, 5)).paint(ax=ax[0, 1])\n",
    "plt.title(\"median-filtered\")\n",
    "r.remove_trends(method=\"savgol_filter\", window_length=11, polyorder=2).paint(\n",
    "    ax=ax[1, 0]\n",
    ")\n",
    "plt.title(\"savgol-filtered\")\n",
    "r.remove_trends(method=\"differences\").paint(ax=ax[1, 1])\n",
    "plt.title(\"first-differences\");"
   ]
  },
  {
   "cell_type": "markdown",
   "metadata": {},
   "source": [
    "## `🌈.shift()`\n",
    "This function Doppler shifts all the wavelengths in a 🌈 by a given velocity."
   ]
  },
  {
   "cell_type": "code",
   "execution_count": null,
   "metadata": {},
   "outputs": [],
   "source": [
    "unshifted = SimulatedRainbow(wlim=[470, 560] * u.nm, R=5000).inject_spectrum()\n",
    "shifted = unshifted.shift(300 * u.km / u.s)\n",
    "for x, label in zip([unshifted, shifted], [\"unshifted\", \"shifted\"]):\n",
    "    plt.plot(x.wavelength, x.flux[:, 0], label=label)\n",
    "plt.xlabel(f\"Wavelength ({unshifted.wavelength.unit.to_string('latex_inline')})\")\n",
    "plt.ylabel(f\"Flux ({unshifted.flux.unit.to_string('latex_inline')})\")\n",
    "plt.legend(frameon=False);"
   ]
  },
  {
   "cell_type": "markdown",
   "metadata": {},
   "source": [
    "## `🌈.trim()`\n",
    "Often datasets may have blocks of wavelengths or times that are entirely bad. This function trims bad wavelengths or times off the edges of a 🌈."
   ]
  },
  {
   "cell_type": "code",
   "execution_count": null,
   "metadata": {},
   "outputs": [],
   "source": [
    "r.wavelike[\"ok\"] = np.random.uniform(0, 1, r.nwave) < 0.9\n",
    "r.wavelike[\"ok\"][:20] = False\n",
    "\n",
    "fi, ax = plt.subplots(1, 2, figsize=(8, 3), sharey=True)\n",
    "r.trim().paint(ax=ax[1])\n",
    "r.paint(ax=ax[0]);"
   ]
  },
  {
   "cell_type": "markdown",
   "metadata": {},
   "source": [
    "## `🌈 + 🌈`\n",
    "\n",
    "We can perform mathematical operations on 🌈 objects. This will apply the requested mathematical operation between the `flux` and `model` arrays, and try its best to figure out what to do with the `uncertainty`."
   ]
  },
  {
   "cell_type": "code",
   "execution_count": null,
   "metadata": {},
   "outputs": [],
   "source": [
    "a = SimulatedRainbow().inject_noise()\n",
    "b = SimulatedRainbow().inject_noise()"
   ]
  },
  {
   "cell_type": "code",
   "execution_count": null,
   "metadata": {},
   "outputs": [],
   "source": [
    "(a + b).paint();"
   ]
  },
  {
   "cell_type": "code",
   "execution_count": null,
   "metadata": {},
   "outputs": [],
   "source": [
    "(a - b)"
   ]
  },
  {
   "cell_type": "code",
   "execution_count": null,
   "metadata": {},
   "outputs": [],
   "source": [
    "(a * b)"
   ]
  },
  {
   "cell_type": "code",
   "execution_count": null,
   "metadata": {},
   "outputs": [],
   "source": [
    "(a / b)"
   ]
  },
  {
   "cell_type": "code",
   "execution_count": null,
   "metadata": {},
   "outputs": [],
   "source": [
    "a * 2 + b / 4 - 0.1 * a.model"
   ]
  },
  {
   "cell_type": "markdown",
   "metadata": {},
   "source": [
    "## `🌈[:,:]`\n",
    "\n",
    "We can trim a Rainbow in wavelength (first dimension) and/or time (second dimension) by slicing it in a similar way that you might to any other 2D array. "
   ]
  },
  {
   "cell_type": "code",
   "execution_count": null,
   "metadata": {},
   "outputs": [],
   "source": [
    "# the original array\n",
    "summarize(r)"
   ]
  },
  {
   "cell_type": "code",
   "execution_count": null,
   "metadata": {},
   "outputs": [],
   "source": [
    "# using slices\n",
    "summarize(r[5:10, ::2])"
   ]
  },
  {
   "cell_type": "code",
   "execution_count": null,
   "metadata": {},
   "outputs": [],
   "source": [
    "# using indices\n",
    "i_wavelengths = np.arange(5, 10)\n",
    "i_times = np.arange(0, r.ntime, 2)\n",
    "summarize(r[i_wavelengths, i_times])"
   ]
  },
  {
   "cell_type": "code",
   "execution_count": null,
   "metadata": {},
   "outputs": [],
   "source": [
    "# using boolean masks\n",
    "ok_wavelengths = r.wavelength < 2 * u.micron\n",
    "ok_times = np.abs(r.time) < 1 * u.hour\n",
    "summarize(r[ok_wavelengths, ok_times])"
   ]
  },
  {
   "cell_type": "markdown",
   "metadata": {},
   "source": [
    "# Viewing a 🌈's History\n",
    "\n",
    "Most actions that return `Rainbow` objects be recorded in that object's `metadata['history']` entry. This is meant to be an approximate summary of the steps that led up to the creation of the current 🌈. You can view this history by calling the `.history()` method."
   ]
  },
  {
   "cell_type": "code",
   "execution_count": null,
   "metadata": {},
   "outputs": [],
   "source": [
    "x = (\n",
    "    SimulatedRainbow()\n",
    "    .inject_noise()\n",
    "    .inject_transit()\n",
    "    .bin(R=5, dt=5 * u.minute)\n",
    "    .normalize()\n",
    ")\n",
    "h = x.history()\n",
    "print(h)"
   ]
  },
  {
   "cell_type": "markdown",
   "metadata": {},
   "source": [
    "By default, it gives an almost copy-paste-able string version of the history of the `Rainbow`. If you look closely, you'll see that `.bin` has gotten split out into four steps (`.bin_in_time`, `.trim_times`, `.bin_in_wavelength`, `.trim_wavelengths`). In many cases, you should be able to approximately reproduce the actions that have gone into a `Rainbow` by just copying, pasting, and running the set of commands returned by `.history()` (or running `eval` to evaluate a string as Python commands)."
   ]
  },
  {
   "cell_type": "code",
   "execution_count": null,
   "metadata": {},
   "outputs": [],
   "source": [
    "eval(h)"
   ]
  }
 ],
 "metadata": {
  "kernelspec": {
   "display_name": "Python 3 (ipykernel)",
   "language": "python",
   "name": "python3"
  },
  "language_info": {
   "codemirror_mode": {
    "name": "ipython",
    "version": 3
   },
   "file_extension": ".py",
   "mimetype": "text/x-python",
   "name": "python",
   "nbconvert_exporter": "python",
   "pygments_lexer": "ipython3",
   "version": "3.10.4"
  }
 },
 "nbformat": 4,
 "nbformat_minor": 4
}
