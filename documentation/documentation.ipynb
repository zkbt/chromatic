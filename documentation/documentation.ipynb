{
 "cells": [
  {
   "cell_type": "markdown",
   "id": "0c858c15",
   "metadata": {},
   "source": [
    "# Writing 🌈 Documentation\n",
    "\n",
    "If you're contributing a new feature to `chromatic`, please consider also contributing some documentation to explain how your feature works. Here's the very short version of how to add to the documentation:\n",
    "\n",
    "1. Install in development mode (see [Installation](../installation)), so you have access to `mkdocs` and the various extensions needed to render the documentation.\n",
    "1. Decide whether your explanation would fit well within an existing page or whether you need a new one. In the `docs/` directory, find the appropraite `.ipynb` notebook file or create a new one. If you create a new one, add it to the `nav:` section of the `mkdocs.yml` file in the main repository directory so that `mkdocs` will know to include it.\n",
    "1. Write your example and explanation in a `.ipynb` file. Your audience should be smart people who want to use the code but don't have much experience with it yet. Be friendly and encouraging!\n",
    "1. From the Terminal, run `mkdocs serve`. This will convert all of the source notebooks into a live website, and give you a little address that you can copy and paste into a browser window. While that `mkdocs serve` command is still running, small changes you make to existing `.ipynb` source files will appear (sometimes after a few minutes) on the live locally-hosted webserver. \n",
    "1. Once you're happy with your new documentation, before committing it to the repository, please run \"Kernal > Restart & Clear Output\" or something similar to remove all outputs from the source notebook file. The `chromatic` repository will hang onto *all* changes that you commit to it, so it would very quickly get annoyingly large unless we leave the outputs out of committed notebook files. Double check the outputs are all gone, save your notebook, and then commit it to the `git` repository (see [Contributing 🌈 Code with GitHub](../github)).\n",
    "\n",
    "Periodically, after reviewing and copy-editing the documentation, we'll deploy the newest version up to the web at [zkbt.github.io/chromatic/](https://zkbt.github.io/chromatic/) for all to enjoy."
   ]
  }
 ],
 "metadata": {
  "kernelspec": {
   "display_name": "Python 3",
   "language": "python",
   "name": "python3"
  },
  "language_info": {
   "codemirror_mode": {
    "name": "ipython",
    "version": 3
   },
   "file_extension": ".py",
   "mimetype": "text/x-python",
   "name": "python",
   "nbconvert_exporter": "python",
   "pygments_lexer": "ipython3",
   "version": "3.9.12"
  }
 },
 "nbformat": 4,
 "nbformat_minor": 5
}
